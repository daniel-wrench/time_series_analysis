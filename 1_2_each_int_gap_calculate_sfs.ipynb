{
 "cells": [
  {
   "cell_type": "markdown",
   "metadata": {},
   "source": [
    "# Gaps on structure functions: **interactive pipeline demo**\n",
    "1. ~~Email Marcus~~\n",
    "1. ~~Get heatmap importing and exporting~~\n",
    "1. Plots\n",
    "    - ~~MAPE in error trend line plots (means vs. means of means)? Using these in test set eval as well as determining bias initially?~~\n",
    "    - ~~Add file indexing to later plots, move to appropriate locations.~~\n",
    "    - ~~Get sample size plot (add *n* to heatmaps) Especially interested in how 3d heatmaps become more populated - *how often can test intervals not find the nearest bin?*~~\n",
    "    - ~~Get plots to save.~~ At earliest point in the code, whereever we're saving things, run the os func to check folder exists\n",
    "1. ~~Run for 2 PSP ints for training, 1 PSP for testing.~~ See what dfs we are left with, and export the final ones.\n",
    "1. ~~Run for 1 Wind testing~~\n",
    "1. ~~Save and commit~~\n",
    "2. ~~Move concatenation, as done as at start of step 3, from start of step 4 to start of step 5. Make step 4 run *on each test set file individually*.~~\n",
    "1. ~~Divide each of the numbered steps into separate notebooks.~~ \n",
    "2. ~~Test these separate notebooks locally: 3 and 2 PSPs, 2 Wind~~\n",
    "3. Convert notebooks to scripts. Note text output, make sure informative/concise enough.\n",
    "4. Make quick to run on PSP vs. Wind, especially initial processing. Perhaps to just have if spacecraft ==\"psp\": do this, elif \"wind\". **Remember different standardisation params!**\n",
    "5. Draft some submission scripts, noting what we could use arrays for.\n",
    "1. Push (new repo?) to GitHub, clone to NeSI.\n",
    "9. Quick scaling study on NeSI, investigating bad ints and possible automatic removal during download or initial reading\n",
    "10. Results for 1 year of PSP, 1 month of Wind\n",
    "10. Up the ante to two years, **while writing up existing results**. Maybe set aside geostats stuff for now.\n",
    "11. Send manuscript to Tulasi, Fraternale, Marcus\n",
    "12. Implement Fraternale's sample size threshold for fitting slopes\n",
    "\n",
    "#### Notes\n",
    "- Can add smoothing to correction step alter, **not on critical path for getting most of the scripts on NESI**\n",
    "- Having logarithmically spaced lag bins would make the correction factor much cleaner to work with: one-to-one bins\n",
    "- For now likely to do stick with simple job arrays and single jobs on HPC, with importing and exporting of intermediate steps, but perhaps better to do single MPI script with broadcasting and reducing.\n",
    "- If we tend to just get one 1 interval out of each file, could do away with (file,int) indexing\n",
    "- In either case, might using actual pandas indexes be easier/more efficient?\n",
    "- Add sf slope to Wind dataset"
   ]
  },
  {
   "cell_type": "code",
   "execution_count": 181,
   "metadata": {
    "vscode": {
     "languageId": "shellscript"
    }
   },
   "outputs": [],
   "source": [
    "# Selecting one file to read in\n",
    "file_index = 3\n",
    "times_to_gap = 3"
   ]
  },
  {
   "cell_type": "markdown",
   "metadata": {},
   "source": [
    "# 1. Download files\n",
    "\n",
    "Run in terminal"
   ]
  },
  {
   "cell_type": "code",
   "execution_count": 182,
   "metadata": {
    "vscode": {
     "languageId": "shellscript"
    }
   },
   "outputs": [],
   "source": [
    "# For selecting a range of dates\n",
    "\n",
    "# wget --no-clobber --directory-prefix=data/raw/psp  https://spdf.gsfc.nasa.gov/pub/data/psp/fields/l2/mag_rtn/2018/psp_fld_l2_mag_rtn_201811{0200..0318}_v02.cdf\n",
    "# wget --no-clobber --directory-prefix=data/raw/wind/ https://spdf.gsfc.nasa.gov/pub/data/wind/mfi/mfi_h2/2016/wi_h2_mfi_201601{01..07}_v05.cdf\n",
    "\n",
    "# For entire folders\n",
    "\n",
    "# wget --no-clobber --directory-prefix=data/raw/psp --recursive -np -nv -nH --cut-dirs=7 --accept cdf  https://spdf.gsfc.nasa.gov/pub/data/psp/fields/l2/mag_rtn/2018/\n",
    "# wget --no-clobber --directory-prefix=data/raw/wind --recursive -np -nv -nH --cut-dirs=2 --accept cdf  https://spdf.gsfc.nasa.gov/pub/data/wind/mfi/mfi_h2/"
   ]
  },
  {
   "cell_type": "markdown",
   "metadata": {},
   "source": [
    "# 2. FOR EACH INTERVAL: standardise, duplicate, gap, calculate SFs\n",
    "\n",
    "This will be distributed across job arrays on an HPC"
   ]
  },
  {
   "cell_type": "markdown",
   "metadata": {},
   "source": [
    "## 2a. Import dependencies"
   ]
  },
  {
   "cell_type": "code",
   "execution_count": 183,
   "metadata": {
    "vscode": {
     "languageId": "shellscript"
    }
   },
   "outputs": [],
   "source": [
    "import pickle\n",
    "import pandas as pd\n",
    "import numpy as np\n",
    "import shutil\n",
    "import ts_dashboard_utils as ts\n",
    "import src.utils as utils  # copied directly from Reynolds project, normalize() added\n",
    "import src.params as params\n",
    "import src.sf_funcs as sf\n",
    "import sys\n",
    "import src.data_import_funcs as dif\n",
    "import json\n",
    "import glob\n",
    "import importlib\n",
    "import matplotlib.pyplot as plt\n",
    "import seaborn as sns\n",
    "import os\n",
    "sns.set_theme(style=\"whitegrid\", font_scale=1.5)\n",
    "#plt.rcParams.update({\"font.size\": 16})\n",
    "import matplotlib.dates as mdates\n",
    "from matplotlib.gridspec import GridSpec"
   ]
  },
  {
   "cell_type": "code",
   "execution_count": 184,
   "metadata": {
    "vscode": {
     "languageId": "shellscript"
    }
   },
   "outputs": [],
   "source": [
    "# For current Wind importing\n",
    "\n",
    "sys_arg_dict = {\n",
    "    # arg1\n",
    "    \"mag_path\": params.mag_path,\n",
    "    \"proton_path\": params.proton_path,\n",
    "    \"electron_path\": params.electron_path,\n",
    "    # arg2\n",
    "    \"mag_vars\": [params.timestamp, params.Bwind, params.Bwind_vec],\n",
    "    \"proton_vars\": [params.timestamp, params.np, params.Tp],\n",
    "    \"electron_vars\": [params.timestamp, params.ne, params.Te],\n",
    "    # arg3\n",
    "    \"mag_thresh\": params.mag_thresh,\n",
    "    \"proton_thresh\": params.proton_thresh,\n",
    "    \"electron_thresh\": params.electron_thresh,\n",
    "    # arg4\n",
    "    \"dt_hr\": params.dt_hr,\n",
    "    \"int_size\": params.int_size,\n",
    "    # arg5\n",
    "    \"dt_lr\": params.dt_lr,\n",
    "}"
   ]
  },
  {
   "cell_type": "markdown",
   "metadata": {},
   "source": [
    "## 2b. Read in data and split into standardised intervals\n",
    "\n",
    "Previously each core read in multiple files at a time. I think it will be better for each core to do one file at a time, especially given that each raw file contains sufficient *approximate* correlation lengths for us to then calculate the *local* outer scale and create our standardise intervals using that."
   ]
  },
  {
   "cell_type": "markdown",
   "metadata": {},
   "source": [
    "#### PSP data"
   ]
  },
  {
   "cell_type": "code",
   "execution_count": 185,
   "metadata": {},
   "outputs": [],
   "source": [
    "# raw_file_list = sorted(glob.iglob(f\"data/raw/psp/\" + \"/*.cdf\"))\n",
    "# raw_file_list"
   ]
  },
  {
   "cell_type": "code",
   "execution_count": 186,
   "metadata": {
    "vscode": {
     "languageId": "shellscript"
    }
   },
   "outputs": [],
   "source": [
    "# psp_data = dif.read_cdfs(\n",
    "#     [raw_file_list[file_index]],  # LIMIT HERE!\n",
    "#     {\"epoch_mag_RTN\": (0), \"psp_fld_l2_mag_RTN\": (0, 3), \"label_RTN\": (0, 3)},\n",
    "# )\n",
    "# psp_data_ready = dif.extract_components(\n",
    "#     psp_data,\n",
    "#     var_name=\"psp_fld_l2_mag_RTN\",\n",
    "#     label_name=\"label_RTN\",\n",
    "#     time_var=\"epoch_mag_RTN\",\n",
    "#     dim=3,\n",
    "# )\n",
    "# psp_df = pd.DataFrame(psp_data_ready)\n",
    "# psp_df[\"Time\"] = pd.to_datetime(\"2000-01-01 12:00\") + pd.to_timedelta(\n",
    "#     psp_df[\"epoch_mag_RTN\"], unit=\"ns\"\n",
    "# )\n",
    "# psp_df = psp_df.drop(columns=\"epoch_mag_RTN\").set_index(\"Time\")\n",
    "\n",
    "# df_raw = psp_df[\"B_R\"].rename(\"B\") # Giving generic name for spacecraft consistency\n",
    "# print(\"\\n\")\n",
    "# print(df_raw.info())\n",
    "\n",
    "# del psp_data, psp_data_ready, psp_df"
   ]
  },
  {
   "cell_type": "markdown",
   "metadata": {},
   "source": [
    "#### Wind data"
   ]
  },
  {
   "cell_type": "code",
   "execution_count": 187,
   "metadata": {
    "vscode": {
     "languageId": "shellscript"
    }
   },
   "outputs": [
    {
     "data": {
      "text/plain": [
       "['data/raw/wind\\\\wi_h2_mfi_20160101_v05.cdf',\n",
       " 'data/raw/wind\\\\wi_h2_mfi_20160102_v05.cdf',\n",
       " 'data/raw/wind\\\\wi_h2_mfi_20160103_v05.cdf',\n",
       " 'data/raw/wind\\\\wi_h2_mfi_20160104_v05.cdf',\n",
       " 'data/raw/wind\\\\wi_h2_mfi_20160105_v05.cdf',\n",
       " 'data/raw/wind\\\\wi_h2_mfi_20160106_v05.cdf',\n",
       " 'data/raw/wind\\\\wi_h2_mfi_20160107_v05.cdf']"
      ]
     },
     "execution_count": 187,
     "metadata": {},
     "output_type": "execute_result"
    }
   ],
   "source": [
    "raw_file_list = sorted(glob.iglob(f\"data/raw/wind/\" + \"/*.cdf\"))\n",
    "raw_file_list"
   ]
  },
  {
   "cell_type": "markdown",
   "metadata": {},
   "source": [
    "Takes about 90s/file"
   ]
  },
  {
   "cell_type": "code",
   "execution_count": 188,
   "metadata": {
    "vscode": {
     "languageId": "shellscript"
    }
   },
   "outputs": [
    {
     "name": "stdout",
     "output_type": "stream",
     "text": [
      "Reading data/raw/wind\\wi_h2_mfi_20160101_v05.cdf: 4.7% missing\n",
      "<class 'pandas.core.series.Series'>\n",
      "DatetimeIndex: 939131 entries, 2016-01-04 00:00:00 to 2016-01-04 23:59:59.960000\n",
      "Freq: 92L\n",
      "Series name: B\n",
      "Non-Null Count   Dtype  \n",
      "--------------   -----  \n",
      "939131 non-null  float32\n",
      "dtypes: float32(1)\n",
      "memory usage: 10.7 MB\n",
      "None\n"
     ]
    }
   ],
   "source": [
    "df = utils.pipeline(\n",
    "    raw_file_list[file_index],\n",
    "    varlist=sys_arg_dict[\"mag_vars\"],\n",
    "    thresholds=sys_arg_dict[\"mag_thresh\"],\n",
    "    cadence=sys_arg_dict[\"dt_hr\"],\n",
    ")\n",
    "\n",
    "print(\"Reading {0}: {1:.1f}% missing\".format(raw_file_list[0], df.iloc[:,0].isna().sum()/len(df)*100))\n",
    "\n",
    "# Ensuring observations are in chronological order\n",
    "df_wind_hr = df.sort_index()\n",
    "\n",
    "# df_wind_hr = pd.read_pickle(\"data/processed/\" + params.mag_path + params.dt_hr + \".pkl\")\n",
    "df_wind_hr = df_wind_hr.rename(\n",
    "    columns={\n",
    "        params.Bwind: \"Bwind\",\n",
    "        params.Bx: \"Bx\",\n",
    "        params.By: \"By\",\n",
    "        params.Bz: \"Bz\",\n",
    "    }\n",
    ")\n",
    "\n",
    "missing = df_wind_hr.iloc[:, 0].isna().sum() / len(df_wind_hr)\n",
    "\n",
    "if missing > 0.4:\n",
    "    # Replacing values in lists with na\n",
    "    print(\"Large missing %\")\n",
    "else:\n",
    "    int_wind_hr = df_wind_hr.interpolate().ffill().bfill()\n",
    "\n",
    "df_raw = int_wind_hr[\"Bx\"].rename(\"B\") # Giving generic name for spacecraft consistency\n",
    "\n",
    "print(df_raw.info())"
   ]
  },
  {
   "cell_type": "markdown",
   "metadata": {},
   "source": [
    "The following chunk gives some metadata - not necessary for the pipeline"
   ]
  },
  {
   "cell_type": "code",
   "execution_count": 189,
   "metadata": {
    "vscode": {
     "languageId": "shellscript"
    }
   },
   "outputs": [
    {
     "name": "stdout",
     "output_type": "stream",
     "text": [
      "No missing data\n",
      "Length of interval: 939131\n",
      "Duration of interval: 0 days 23:59:59.960000\n",
      "Duration between some adjacent data points:\n",
      "0 days 00:00:00.092000\n",
      "0 days 00:00:00.092000\n",
      "0 days 00:00:00.092000\n",
      "\n",
      "Frequency is 10.9 Hz (2dp)\n",
      "Mean = -3.6836745738983154\n",
      "Standard deviation = 1.3824694156646729\n",
      "\n"
     ]
    }
   ],
   "source": [
    "### 0PTIONAL CODE ###\n",
    "\n",
    "if df_raw.isnull().sum() == 0:\n",
    "    print(\"No missing data\")\n",
    "else:\n",
    "    print(f\"{df_raw.isnull().sum()} missing points\")\n",
    "print(\"Length of interval: \" + str(df_raw.notnull().sum()))\n",
    "print(\"Duration of interval: \" + str(df_raw.index[-1] - df_raw.index[0]))\n",
    "x = df_raw.values\n",
    "\n",
    "# Frequency of measurements\n",
    "print(\"Duration between some adjacent data points:\")\n",
    "print(df_raw.index[2] - df_raw.index[1])\n",
    "print(df_raw.index[3] - df_raw.index[2])\n",
    "print(df_raw.index[4] - df_raw.index[3])\n",
    "\n",
    "a = df_raw.index[2] - df_raw.index[1]\n",
    "x_freq = 1 / (a.microseconds / 1e6)\n",
    "print(\"\\nFrequency is {0:.1f} Hz (2dp)\".format(x_freq))\n",
    "\n",
    "print(\"Mean = {}\".format(np.mean(x)))\n",
    "print(\"Standard deviation = {}\\n\".format(np.std(x)))\n",
    "\n",
    "### 0PTIONAL CODE END ###"
   ]
  },
  {
   "cell_type": "code",
   "execution_count": 190,
   "metadata": {},
   "outputs": [
    {
     "name": "stdout",
     "output_type": "stream",
     "text": [
      "Using the 1/e trick, tc was calculated to be 3214.96s -> data resampled to new cadence of 3.21s, for 10tc across 10000 points\n",
      "Given this correlation length, this file yields 2 standardised interval/s\n",
      "These will be now decimated in 3 different ways\n"
     ]
    }
   ],
   "source": [
    "tc_approx = 2000  # s: 500 for PSP, 2000 for Wind\n",
    "cadence_approx = 1 # s: 0.1 for PSP, 1 for Wind\n",
    "\n",
    "tc_n = 10  # Number of actual (computed) correlation times we want in our standardised interval...\n",
    "interval_length = 10000  # ...across this many points\n",
    "\n",
    "df = df_raw.resample(str(cadence_approx) + \"S\").mean()\n",
    "\n",
    "ints = []\n",
    "tc_list = []\n",
    "cadence_list = []\n",
    "\n",
    "time_lags_lr, r_vec_lr = utils.compute_nd_acf(\n",
    "    [df],\n",
    "    nlags=30000, # 100000 for PSP, 30000 for Wind\n",
    "    plot=False,\n",
    ")\n",
    "\n",
    "tc = utils.compute_outer_scale_exp_trick(time_lags_lr, r_vec_lr, plot=False)\n",
    "\n",
    "if tc == -1:\n",
    "    tc = tc_approx\n",
    "    new_cadence = tc_n * tc / interval_length\n",
    "    print(\n",
    "        f\"tc not found for this interval, setting to 500s (default) -> cadence = {new_cadence}s\"\n",
    "    )\n",
    "\n",
    "else:\n",
    "    new_cadence = tc_n * tc / interval_length\n",
    "    print(\n",
    "        f\"Using the 1/e trick, tc was calculated to be {np.round(tc,2)}s -> data resampled to new cadence of {np.round(new_cadence,2)}s, for {tc_n}tc across {interval_length} points\"\n",
    "    )\n",
    "\n",
    "tc_list.append(tc)\n",
    "cadence_list.append(new_cadence)\n",
    "\n",
    "try:\n",
    "    interval_approx_resampled = df.resample(\n",
    "        str(np.round(new_cadence, 3)) + \"S\"\n",
    "    ).mean()  # Resample to higher frequency\n",
    "\n",
    "    for i in range(\n",
    "        0, len(interval_approx_resampled) - interval_length + 1, interval_length\n",
    "    ):\n",
    "        interval = interval_approx_resampled.iloc[i : i + interval_length]\n",
    "        # Check if interval is complete\n",
    "        if interval.isnull().sum()/len(interval) < 0.01:\n",
    "            # Linear interpolate\n",
    "            interval = interval.interpolate(method=\"linear\")\n",
    "            int_norm = utils.normalize(interval)\n",
    "            ints.append(int_norm)\n",
    "        else:\n",
    "            print(\"Too many NaNs in interval, skipping\")\n",
    "\n",
    "\n",
    "except Exception as e:\n",
    "    print(f\"An error occurred: {e}\")\n",
    "\n",
    "print(\n",
    "    \"Given this correlation length, this file yields\",\n",
    "    len(ints),\n",
    "    \"standardised interval/s\")\n",
    "if len(ints) > 0:\n",
    "    print(\"These will be now decimated in\",\n",
    "    times_to_gap,\n",
    "    \"different ways\")\n",
    "else:\n",
    "    print(\"NO GOOD INTERVALS WITH GIVEN SPECIFICATIONS\")"
   ]
  },
  {
   "cell_type": "code",
   "execution_count": 191,
   "metadata": {},
   "outputs": [],
   "source": [
    "# Delete original dataframes\n",
    "del df_raw"
   ]
  },
  {
   "cell_type": "code",
   "execution_count": 192,
   "metadata": {},
   "outputs": [
    {
     "data": {
      "image/png": "[encoded data removed]",
      "text/plain": [
       "<Figure size 648x216 with 1 Axes>"
      ]
     },
     "metadata": {},
     "output_type": "display_data"
    }
   ],
   "source": [
    "fig, ax = plt.subplots(figsize=(9, 3))\n",
    "plt.plot(df, alpha=0.3, c=\"black\")\n",
    "plt.axvline(df.index[0], c=\"black\", linestyle=\"dashed\")\n",
    "[\n",
    "    plt.axvline(interval.index[-1], c=\"black\", linestyle=\"dashed\")\n",
    "    for interval in ints\n",
    "]\n",
    "[plt.plot(interval, c=\"black\") for interval in ints]\n",
    "plt.axhline(0, c=\"black\", linewidth=0.5, linestyle=\"--\")\n",
    "plt.suptitle(\n",
    "    f\"Standardised solar wind interval/s, given local conditions\" , y= 1.1)\n",
    "# Add subtitle\n",
    "plt.title(f\"{tc_n}$\\lambda_C$ ($\\lambda_C=${int(tc)}s) across {interval_length} points, $\\langle x \\\\rangle=0$, $\\sigma=1$\")\n",
    "\n",
    "# ax.set_xlim(interval_list_approx[0].index[0], interval_list_approx[2].index[-1])\n",
    "ax.set_xlabel(\"Time\")\n",
    "ax.xaxis.set_major_formatter(mdates.ConciseDateFormatter(ax.xaxis.get_major_locator()))\n",
    "ax.set_ylabel(f\"{interval.name}\")\n",
    "\n",
    "output_file_path = raw_file_list[file_index].replace(\"data/raw\", \"plots/temp\").replace(\".cdf\", \"_ints.jpg\")\n",
    "plt.savefig(output_file_path, bbox_inches='tight')"
   ]
  },
  {
   "cell_type": "code",
   "execution_count": 193,
   "metadata": {},
   "outputs": [
    {
     "data": {
      "text/html": [
       "<div>\n",
       "<style scoped>\n",
       "    .dataframe tbody tr th:only-of-type {\n",
       "        vertical-align: middle;\n",
       "    }\n",
       "\n",
       "    .dataframe tbody tr th {\n",
       "        vertical-align: top;\n",
       "    }\n",
       "\n",
       "    .dataframe thead th {\n",
       "        text-align: right;\n",
       "    }\n",
       "</style>\n",
       "<table border=\"1\" class=\"dataframe\">\n",
       "  <thead>\n",
       "    <tr style=\"text-align: right;\">\n",
       "      <th></th>\n",
       "      <th>file_index</th>\n",
       "      <th>file_start</th>\n",
       "      <th>file_end</th>\n",
       "      <th>tc</th>\n",
       "      <th>cadence</th>\n",
       "    </tr>\n",
       "  </thead>\n",
       "  <tbody>\n",
       "    <tr>\n",
       "      <th>0</th>\n",
       "      <td>3</td>\n",
       "      <td>2016-01-04</td>\n",
       "      <td>2016-01-04 23:59:59</td>\n",
       "      <td>3214.96</td>\n",
       "      <td>3.21496</td>\n",
       "    </tr>\n",
       "  </tbody>\n",
       "</table>\n",
       "</div>"
      ],
      "text/plain": [
       "   file_index file_start            file_end       tc  cadence\n",
       "0           3 2016-01-04 2016-01-04 23:59:59  3214.96  3.21496"
      ]
     },
     "execution_count": 193,
     "metadata": {},
     "output_type": "execute_result"
    }
   ],
   "source": [
    "files_metadata = pd.DataFrame({\n",
    "    \"file_index\": file_index,\n",
    "    \"file_start\": df.index[0],\n",
    "    \"file_end\": df.index[-1],\n",
    "    \"tc\": tc_list,\n",
    "    \"cadence\": cadence_list,\n",
    "})\n",
    "files_metadata"
   ]
  },
  {
   "cell_type": "code",
   "execution_count": 194,
   "metadata": {},
   "outputs": [
    {
     "data": {
      "text/html": [
       "<div>\n",
       "<style scoped>\n",
       "    .dataframe tbody tr th:only-of-type {\n",
       "        vertical-align: middle;\n",
       "    }\n",
       "\n",
       "    .dataframe tbody tr th {\n",
       "        vertical-align: top;\n",
       "    }\n",
       "\n",
       "    .dataframe thead th {\n",
       "        text-align: right;\n",
       "    }\n",
       "</style>\n",
       "<table border=\"1\" class=\"dataframe\">\n",
       "  <thead>\n",
       "    <tr style=\"text-align: right;\">\n",
       "      <th></th>\n",
       "      <th>file_index</th>\n",
       "      <th>int_index</th>\n",
       "      <th>int_start</th>\n",
       "      <th>int_end</th>\n",
       "    </tr>\n",
       "  </thead>\n",
       "  <tbody>\n",
       "    <tr>\n",
       "      <th>0</th>\n",
       "      <td>3</td>\n",
       "      <td>0</td>\n",
       "      <td>2016-01-04 00:00:00</td>\n",
       "      <td>2016-01-04 08:55:46.785</td>\n",
       "    </tr>\n",
       "    <tr>\n",
       "      <th>1</th>\n",
       "      <td>3</td>\n",
       "      <td>1</td>\n",
       "      <td>2016-01-04 08:55:50</td>\n",
       "      <td>2016-01-04 17:51:36.785</td>\n",
       "    </tr>\n",
       "  </tbody>\n",
       "</table>\n",
       "</div>"
      ],
      "text/plain": [
       "   file_index  int_index           int_start                 int_end\n",
       "0           3          0 2016-01-04 00:00:00 2016-01-04 08:55:46.785\n",
       "1           3          1 2016-01-04 08:55:50 2016-01-04 17:51:36.785"
      ]
     },
     "execution_count": 194,
     "metadata": {},
     "output_type": "execute_result"
    }
   ],
   "source": [
    "ints_metadata = pd.DataFrame({\n",
    "    \"int_start\": [interval.index[0] for interval in ints],\n",
    "    \"int_end\": [interval.index[-1] for interval in ints],\n",
    "})\n",
    "ints_metadata.reset_index(inplace=True)\n",
    "ints_metadata.rename(columns={\"index\": \"int_index\"}, inplace=True)\n",
    "ints_metadata.insert(0, \"file_index\", file_index)\n",
    "ints_metadata"
   ]
  },
  {
   "cell_type": "markdown",
   "metadata": {},
   "source": [
    "## 2c. Analyse intervals (get true SF and slope)"
   ]
  },
  {
   "cell_type": "code",
   "execution_count": 195,
   "metadata": {},
   "outputs": [],
   "source": [
    "lags = np.arange(1, 0.1 * len(ints[0]))\n",
    "\n",
    "# Logarithmically-spaced lags?\n",
    "# vals = np.logspace(0, 3, 0.25 * len(ints[0]))\n",
    "# lags = np.unique(vals.astype(int))\n",
    "\n",
    "powers = [2]\n",
    "pwrl_range = [10,100]"
   ]
  },
  {
   "cell_type": "code",
   "execution_count": 196,
   "metadata": {},
   "outputs": [],
   "source": [
    "sfs = pd.DataFrame()\n",
    "\n",
    "for i, input in enumerate(ints):\n",
    "    # print(f\"\\nCore {core} processing standardised interval {i}\")\n",
    "    good_output, slope = sf.compute_sf(pd.DataFrame(input), lags, powers, False, False, pwrl_range)\n",
    "    good_output.insert(0, \"int_index\", i)\n",
    "    good_output.insert(1, \"file_index\", file_index)\n",
    "    sfs = pd.concat([sfs, good_output])\n",
    "    ints_metadata.loc[ints_metadata[\"int_index\"]==i, \"slope\"] = slope"
   ]
  },
  {
   "cell_type": "code",
   "execution_count": 197,
   "metadata": {},
   "outputs": [
    {
     "data": {
      "image/png": "[encoded data removed]",
      "text/plain": [
       "<Figure size 432x288 with 1 Axes>"
      ]
     },
     "metadata": {},
     "output_type": "display_data"
    }
   ],
   "source": [
    "check_int = 0\n",
    "slope = ints_metadata.loc[ints_metadata[\"int_index\"]==check_int, \"slope\"].values[0]\n",
    "timestamp = ints_metadata.loc[ints_metadata[\"int_index\"]==check_int, \"int_start\"][0]\n",
    "\n",
    "from src.data_import_funcs import pltpwrl\n",
    "plt.plot(sfs.loc[sfs[\"int_index\"]==check_int, \"lag\"], sfs.loc[sfs[\"int_index\"]==check_int, \"sf_2\"])\n",
    "pltpwrl(10,0.1, 10, 100, slope, lw=4, ls=\"--\", color=\"black\")\n",
    "# Annotate with slope\n",
    "plt.annotate(\n",
    "    f\"Log-log slope: {slope:.3f}\",\n",
    "    xy=(0.3, 0.8),\n",
    "    xycoords=\"axes fraction\",\n",
    "    ha=\"center\",\n",
    "    va=\"center\",\n",
    "    bbox=dict(boxstyle=\"round,pad=0.3\", fc=\"white\", ec=\"black\", lw=0.5),\n",
    "    fontsize=14\n",
    ")\n",
    "plt.semilogx()\n",
    "plt.semilogy()\n",
    "plt.title(f\"Original $S_2(\\\\tau)$ for interval beginning {timestamp}\")\n",
    "\n",
    "output_file_path = raw_file_list[file_index].replace(\"data/raw\", \"plots/temp\").replace(\".cdf\", \"_sf_example.jpg\")\n",
    "plt.savefig(output_file_path, bbox_inches='tight')"
   ]
  },
  {
   "cell_type": "markdown",
   "metadata": {},
   "source": [
    "## 2d. Duplicate, gap, interpolate, re-analyse intervals\n",
    "Gap in $x$ different ways, then calculate SF and corresponding slope for gappy (naive) and interpolated (lint) versions of each of these duplicate intervals."
   ]
  },
  {
   "cell_type": "code",
   "execution_count": 198,
   "metadata": {},
   "outputs": [],
   "source": [
    "minimum_missing_chunks = 0.7\n",
    "np.random.seed(123) # For reproducibility"
   ]
  },
  {
   "cell_type": "code",
   "execution_count": 199,
   "metadata": {},
   "outputs": [],
   "source": [
    "index_list = []\n",
    "version_list = []\n",
    "handling_list = []\n",
    "missing_list = []\n",
    "missing_chunks_list = []\n",
    "slopes_list = []\n",
    "\n",
    "sfs_gapped = pd.DataFrame()\n",
    "ints_gapped = pd.DataFrame()\n",
    "\n",
    "for index in range(len(ints)):\n",
    "    input = ints[index]\n",
    "\n",
    "    for j in range(times_to_gap):\n",
    "        total_removal = np.random.uniform(0, 0.95)\n",
    "        ratio_removal = np.random.uniform(minimum_missing_chunks, 1)\n",
    "        # print(\"Nominal total removal: {0:.1f}%\".format(total_removal * 100))\n",
    "        # print(\"Nominal ratio: {0:.1f}%\".format(ratio_removal * 100))\n",
    "        prop_remove_chunks = total_removal * ratio_removal\n",
    "        prop_remove_unif = total_removal * (1 - ratio_removal)\n",
    "        bad_input_chunks, bad_input_ind_chunks, prop_removed_chunks = ts.remove_data(\n",
    "            input, prop_remove_chunks, chunks=np.random.randint(1, 10)\n",
    "        )\n",
    "        # Add the uniform gaps on top of chunks gaps \n",
    "        bad_input, bad_input_ind, prop_removed = ts.remove_data(\n",
    "            bad_input_chunks, prop_remove_unif\n",
    "        )\n",
    "        if prop_removed >= 0.95 or prop_removed == 0:\n",
    "            # print(\">95% or 0% data removed, skipping\")\n",
    "            continue\n",
    "\n",
    "        bad_output = sf.compute_sf(pd.DataFrame(bad_input), lags, powers, False, False)\n",
    "        bad_output[\"file_index\"] = file_index\n",
    "        bad_output[\"int_index\"] = index\n",
    "        bad_output[\"version\"] = j\n",
    "        bad_output[\"gap_handling\"] = \"naive\"\n",
    "        sfs_gapped = pd.concat([sfs_gapped, bad_output])\n",
    "\n",
    "        for handling in [\"naive\", \"lint\"]:\n",
    "            index_list.append(index)\n",
    "            version_list.append(j)\n",
    "            missing_list.append(prop_removed*100)\n",
    "            missing_chunks_list.append(prop_removed_chunks*100)\n",
    "            \n",
    "            handling_list.append(handling)\n",
    "\n",
    "            if handling == \"naive\":\n",
    "                slopes_list.append(slope)\n",
    "                # Once we are done with computing the SF, add some metadata to the interval\n",
    "                bad_input_df = pd.DataFrame(bad_input)\n",
    "                bad_input_df.reset_index(inplace=True)\n",
    "                bad_input_df[\"file_index\"] = file_index \n",
    "                bad_input_df[\"int_index\"] = index\n",
    "                bad_input_df[\"version\"] = j\n",
    "                bad_input_df[\"gap_handling\"] = handling\n",
    "                ints_gapped = pd.concat([ints_gapped, bad_input_df])\n",
    "\n",
    "            elif handling == \"lint\":\n",
    "                interp_input = bad_input.interpolate(method=\"linear\")\n",
    "                interp_output = sf.compute_sf(pd.DataFrame(interp_input), lags, powers, False, False)\n",
    "                \n",
    "                # # Once we are done with computing the SF, add some metadata to the interval\n",
    "                interp_input_df = pd.DataFrame(interp_input)\n",
    "                interp_input_df.reset_index(inplace=True) # Make time a column, not an index\n",
    "                interp_input_df[\"file_index\"] = file_index\n",
    "                interp_input_df[\"int_index\"] = index\n",
    "                interp_input_df[\"version\"] = j\n",
    "                interp_input_df[\"gap_handling\"] = handling\n",
    "                ints_gapped = pd.concat([ints_gapped, interp_input_df])\n",
    "\n",
    "                interp_output[\"file_index\"] = file_index\n",
    "                interp_output[\"int_index\"] = index\n",
    "                interp_output[\"version\"] = j\n",
    "                interp_output[\"gap_handling\"] = handling\n",
    "                \n",
    "                # Correcting sample size and uncertainty for linear interpolation, same values as no handling\n",
    "                interp_output[\"n\"] = bad_output[\"n\"]\n",
    "                interp_output[\"missing_percent\"] = bad_output[\"missing_percent\"]\n",
    "                interp_output[\"sf_2_se\"] = bad_output[\"sf_2_se\"]\n",
    "\n",
    "                sfs_gapped = pd.concat([sfs_gapped, interp_output])"
   ]
  },
  {
   "cell_type": "code",
   "execution_count": 200,
   "metadata": {},
   "outputs": [],
   "source": [
    "ints_gapped_metadata = pd.DataFrame({\n",
    "    \"file_index\": file_index,\n",
    "    \"int_index\": index_list, \n",
    "    \"version\": version_list, \n",
    "    \"missing_percent_overall\": missing_list, \n",
    "    \"missing_percent_chunks\": missing_chunks_list, \n",
    "    \"gap_handling\": handling_list})"
   ]
  },
  {
   "cell_type": "markdown",
   "metadata": {},
   "source": [
    "## Export dataframes as pickle file"
   ]
  },
  {
   "cell_type": "code",
   "execution_count": 201,
   "metadata": {},
   "outputs": [],
   "source": [
    "# Export the dataframes in one big pickle file\n",
    "output_file_path = raw_file_list[file_index].replace(\"raw\", \"processed\").replace(\".cdf\", \".pkl\")\n",
    "\n",
    "with open(output_file_path, \"wb\") as f:\n",
    "    pickle.dump(\n",
    "        {\n",
    "            \"files_metadata\": files_metadata,\n",
    "            \"ints_metadata\": ints_metadata,\n",
    "            \"ints\": ints,\n",
    "            \"ints_gapped_metadata\": ints_gapped_metadata,\n",
    "            \"ints_gapped\": ints_gapped,\n",
    "            \"sfs\": sfs,\n",
    "            \"sfs_gapped\": sfs_gapped,\n",
    "        },\n",
    "        f,\n",
    "    )"
   ]
  }
 ],
 "metadata": {
  "kernelspec": {
   "display_name": "Python 3",
   "language": "python",
   "name": "python3"
  },
  "language_info": {
   "codemirror_mode": {
    "name": "ipython",
    "version": 3
   },
   "file_extension": ".py",
   "mimetype": "text/x-python",
   "name": "python",
   "nbconvert_exporter": "python",
   "pygments_lexer": "ipython3",
   "version": "3.10.4"
  }
 },
 "nbformat": 4,
 "nbformat_minor": 2
}

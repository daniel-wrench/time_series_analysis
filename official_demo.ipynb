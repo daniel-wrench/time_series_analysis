{
 "cells": [
  {
   "cell_type": "markdown",
   "metadata": {},
   "source": [
    "# Gaps on structure functions: demo of pipeline\n",
    "\n",
    "- Inspired by existing code\n",
    "- Test on one PSP to start, then two PSP and one Wind for training and testing\n",
    "- Check against target dataframes as you go"
   ]
  },
  {
   "cell_type": "markdown",
   "metadata": {},
   "source": [
    "### 0. Import dependencies"
   ]
  },
  {
   "cell_type": "code",
   "execution_count": 1,
   "metadata": {
    "vscode": {
     "languageId": "shellscript"
    }
   },
   "outputs": [],
   "source": [
    "import pickle\n",
    "import pandas as pd\n",
    "import numpy as np\n",
    "import ts_dashboard_utils as ts\n",
    "import src.utils as utils  # copied directly from Reynolds project, normalize() added\n",
    "import src.params as params\n",
    "import src.sf_funcs as sf\n",
    "import sys\n",
    "import src.data_import_funcs as dif\n",
    "import json\n",
    "import glob\n",
    "import importlib\n",
    "import matplotlib.pyplot as plt\n",
    "#plt.rcParams.update({\"font.size\": 16})\n",
    "import matplotlib.dates as mdates"
   ]
  },
  {
   "cell_type": "code",
   "execution_count": 2,
   "metadata": {
    "vscode": {
     "languageId": "shellscript"
    }
   },
   "outputs": [],
   "source": [
    "# For current Wind importing\n",
    "\n",
    "sys_arg_dict = {\n",
    "    # arg1\n",
    "    \"mag_path\": params.mag_path,\n",
    "    \"proton_path\": params.proton_path,\n",
    "    \"electron_path\": params.electron_path,\n",
    "    # arg2\n",
    "    \"mag_vars\": [params.timestamp, params.Bwind, params.Bwind_vec],\n",
    "    \"proton_vars\": [params.timestamp, params.np, params.Tp],\n",
    "    \"electron_vars\": [params.timestamp, params.ne, params.Te],\n",
    "    # arg3\n",
    "    \"mag_thresh\": params.mag_thresh,\n",
    "    \"proton_thresh\": params.proton_thresh,\n",
    "    \"electron_thresh\": params.electron_thresh,\n",
    "    # arg4\n",
    "    \"dt_hr\": params.dt_hr,\n",
    "    \"int_size\": params.int_size,\n",
    "    # arg5\n",
    "    \"dt_lr\": params.dt_lr,\n",
    "}"
   ]
  },
  {
   "cell_type": "markdown",
   "metadata": {},
   "source": [
    "### 1. Download files\n",
    "\n",
    "Run in terminal"
   ]
  },
  {
   "cell_type": "code",
   "execution_count": 3,
   "metadata": {
    "vscode": {
     "languageId": "shellscript"
    }
   },
   "outputs": [],
   "source": [
    "# For selecting a range of dates\n",
    "\n",
    "# wget --no-clobber --directory-prefix=data/raw/psp  https://spdf.gsfc.nasa.gov/pub/data/psp/fields/l2/mag_rtn/2018/psp_fld_l2_mag_rtn_20181102{00..12}_v02.cdf\n",
    "# wget --no-clobber --directory-prefix=data/raw/wind/ https://spdf.gsfc.nasa.gov/pub/data/wind/mfi/mfi_h2/2016/wi_h2_mfi_201601{01..07}_v05.cdf\n",
    "\n",
    "# For entire folders\n",
    "\n",
    "# wget --no-clobber --directory-prefix=data/raw/psp --recursive -np -nv -nH --cut-dirs=7 --accept cdf  https://spdf.gsfc.nasa.gov/pub/data/psp/fields/l2/mag_rtn/2018/\n",
    "# wget --no-clobber --directory-prefix=data/raw/wind --recursive -np -nv -nH --cut-dirs=2 --accept cdf  https://spdf.gsfc.nasa.gov/pub/data/wind/mfi/mfi_h2/"
   ]
  },
  {
   "cell_type": "markdown",
   "metadata": {},
   "source": [
    "### 2. Read in data and split into standardised intervals"
   ]
  },
  {
   "cell_type": "markdown",
   "metadata": {},
   "source": [
    "#### PSP data"
   ]
  },
  {
   "cell_type": "code",
   "execution_count": 4,
   "metadata": {},
   "outputs": [
    {
     "name": "stdout",
     "output_type": "stream",
     "text": [
      "['data/raw/psp\\\\psp_fld_l2_mag_rtn_2018110200_v02.cdf', 'data/raw/psp\\\\psp_fld_l2_mag_rtn_2018110206_v02.cdf', 'data/raw/psp\\\\psp_fld_l2_mag_rtn_2018110212_v02.cdf']\n"
     ]
    }
   ],
   "source": [
    "raw_file_list = sorted(glob.iglob(\"data/raw/psp/\" + \"/*.cdf\"))\n",
    "print(raw_file_list)"
   ]
  },
  {
   "cell_type": "code",
   "execution_count": 5,
   "metadata": {
    "vscode": {
     "languageId": "shellscript"
    }
   },
   "outputs": [
    {
     "name": "stdout",
     "output_type": "stream",
     "text": [
      "reading file  data/raw/psp\\psp_fld_l2_mag_rtn_2018110200_v02.cdf\n"
     ]
    },
    {
     "name": "stdout",
     "output_type": "stream",
     "text": [
      "Done reading data\n",
      "<class 'pandas.core.series.Series'>\n",
      "DatetimeIndex: 1582027 entries, 2018-11-02 00:01:09.195182976 to 2018-11-02 06:01:09.171900544\n",
      "Series name: B_R\n",
      "Non-Null Count    Dtype  \n",
      "--------------    -----  \n",
      "1582027 non-null  float64\n",
      "dtypes: float64(1)\n",
      "memory usage: 24.1 MB\n",
      "None\n",
      "Time\n",
      "2018-11-02 00:01:09.195182976   -11.061315\n",
      "2018-11-02 00:01:09.208836480   -10.854164\n",
      "2018-11-02 00:01:09.222489856   -11.197883\n",
      "2018-11-02 00:01:09.236143104   -11.008248\n",
      "2018-11-02 00:01:09.249796352   -11.188342\n",
      "Name: B_R, dtype: float64\n"
     ]
    }
   ],
   "source": [
    "psp_data = dif.read_cdfs(\n",
    "    [raw_file_list[0]],  # LIMIT HERE!\n",
    "    {\"epoch_mag_RTN\": (0), \"psp_fld_l2_mag_RTN\": (0, 3), \"label_RTN\": (0, 3)},\n",
    ")\n",
    "psp_data_ready = dif.extract_components(\n",
    "    psp_data,\n",
    "    var_name=\"psp_fld_l2_mag_RTN\",\n",
    "    label_name=\"label_RTN\",\n",
    "    time_var=\"epoch_mag_RTN\",\n",
    "    dim=3,\n",
    ")\n",
    "psp_df = pd.DataFrame(psp_data_ready)\n",
    "psp_df[\"Time\"] = pd.to_datetime(\"2000-01-01 12:00\") + pd.to_timedelta(\n",
    "    psp_df[\"epoch_mag_RTN\"], unit=\"ns\"\n",
    ")\n",
    "psp_df = psp_df.drop(columns=\"epoch_mag_RTN\").set_index(\"Time\")\n",
    "\n",
    "df_raw = psp_df[\"B_R\"]\n",
    "\n",
    "print(df_raw.info())\n",
    "print(df_raw.head())"
   ]
  },
  {
   "cell_type": "markdown",
   "metadata": {},
   "source": [
    "#### Wind data\n",
    "Takes a while due to large files"
   ]
  },
  {
   "cell_type": "code",
   "execution_count": 6,
   "metadata": {
    "vscode": {
     "languageId": "shellscript"
    }
   },
   "outputs": [],
   "source": [
    "# raw_file_list = sorted(glob.iglob(\"data/raw/wind/\" + \"/*.cdf\"))\n",
    "# print(raw_file_list)"
   ]
  },
  {
   "cell_type": "code",
   "execution_count": 7,
   "metadata": {
    "vscode": {
     "languageId": "shellscript"
    }
   },
   "outputs": [],
   "source": [
    "# df = utils.pipeline(\n",
    "#     raw_file_list[0],\n",
    "#     varlist=sys_arg_dict[\"mag_vars\"],\n",
    "#     thresholds=sys_arg_dict[\"mag_thresh\"],\n",
    "#     cadence=sys_arg_dict[\"dt_hr\"],\n",
    "# )\n",
    "\n",
    "# print(\"Reading {0}: {1:.2f}% missing\".format(raw_file_list[0], df.iloc[:,0].isna().sum()/len(df)*100))\n",
    "\n",
    "# # Ensuring observations are in chronological order\n",
    "# df_wind_hr = df.sort_index()\n",
    "\n",
    "# # df_wind_hr = pd.read_pickle(\"data/processed/\" + params.mag_path + params.dt_hr + \".pkl\")\n",
    "# df_wind_hr = df_wind_hr.rename(\n",
    "#     columns={\n",
    "#         params.Bwind: \"Bwind\",\n",
    "#         params.Bx: \"Bx\",\n",
    "#         params.By: \"By\",\n",
    "#         params.Bz: \"Bz\",\n",
    "#     }\n",
    "# )\n",
    "\n",
    "# missing = df_wind_hr.iloc[:, 0].isna().sum() / len(df_wind_hr)\n",
    "\n",
    "# if missing > 0.4:\n",
    "#     # Replacing values in lists with na\n",
    "#     print(\"Large missing %\")\n",
    "# else:\n",
    "#     int_wind_hr = df_wind_hr.interpolate().ffill().bfill()\n",
    "\n",
    "# df_raw = int_wind_hr[\"Bx\"]\n",
    "\n",
    "# print(df_raw.info())\n",
    "# print(df_raw.head())"
   ]
  },
  {
   "cell_type": "code",
   "execution_count": 8,
   "metadata": {
    "vscode": {
     "languageId": "shellscript"
    }
   },
   "outputs": [
    {
     "name": "stdout",
     "output_type": "stream",
     "text": [
      "No missing data\n",
      "Length of interval: 1582027\n",
      "Duration of interval: 0 days 05:59:59.976717568\n",
      "Duration between some adjacent data points:\n",
      "0 days 00:00:00.013653376\n",
      "0 days 00:00:00.013653248\n",
      "0 days 00:00:00.013653248\n",
      "\n",
      "Frequency is 73.24 Hz (2dp)\n",
      "Mean = -28.383399058746512\n",
      "Standard deviation = 18.777635215345533\n",
      "\n"
     ]
    }
   ],
   "source": [
    "### 0PTIONAL CODE ###\n",
    "\n",
    "if df_raw.isnull().sum() == 0:\n",
    "    print(\"No missing data\")\n",
    "else:\n",
    "    print(f\"{df_raw.isnull().sum()} missing points\")\n",
    "print(\"Length of interval: \" + str(df_raw.notnull().sum()))\n",
    "print(\"Duration of interval: \" + str(df_raw.index[-1] - df_raw.index[0]))\n",
    "x = df_raw.values\n",
    "\n",
    "# Frequency of measurements\n",
    "print(\"Duration between some adjacent data points:\")\n",
    "print(df_raw.index[2] - df_raw.index[1])\n",
    "print(df_raw.index[3] - df_raw.index[2])\n",
    "print(df_raw.index[4] - df_raw.index[3])\n",
    "\n",
    "a = df_raw.index[2] - df_raw.index[1]\n",
    "x_freq = 1 / (a.microseconds / 1e6)\n",
    "print(\"\\nFrequency is {0:.2f} Hz (2dp)\".format(x_freq))\n",
    "\n",
    "print(\"Mean = {}\".format(np.mean(x)))\n",
    "print(\"Standard deviation = {}\\n\".format(np.std(x)))\n",
    "\n",
    "### 0PTIONAL CODE END ###"
   ]
  },
  {
   "cell_type": "code",
   "execution_count": 9,
   "metadata": {
    "vscode": {
     "languageId": "shellscript"
    }
   },
   "outputs": [],
   "source": [
    "times_to_gap = 2"
   ]
  },
  {
   "cell_type": "code",
   "execution_count": 10,
   "metadata": {},
   "outputs": [
    {
     "name": "stdout",
     "output_type": "stream",
     "text": [
      "tc calculated to be 736.2s -> cadence = 0.74s (for 10tc across 10000 points)\n",
      "\n",
      "Number of standardised intervals:  2 about to be gapped 2 times\n"
     ]
    }
   ],
   "source": [
    "tc_approx = 500  # s: 500 for PSP, 2000 for Wind\n",
    "cadence_approx = 0.1  # s: 0.1 for PSP, 1 for Wind\n",
    "\n",
    "tc_n = 10  # Number of actual (computed) correlation times we want in our standardised interval...\n",
    "interval_length = 10000  # ...across this many points\n",
    "\n",
    "df = df_raw.resample(str(cadence_approx) + \"S\").mean()\n",
    "\n",
    "ints = []\n",
    "tc_list = []\n",
    "cadence_list = []\n",
    "\n",
    "time_lags_lr, r_vec_lr = utils.compute_nd_acf(\n",
    "    [df],\n",
    "    nlags=10000,\n",
    "    plot=False,\n",
    ")\n",
    "\n",
    "tc = utils.compute_outer_scale_exp_trick(time_lags_lr, r_vec_lr, plot=False)\n",
    "\n",
    "if tc == -1:\n",
    "    tc = tc_approx\n",
    "    new_cadence = tc_n * tc / interval_length\n",
    "    print(\n",
    "        f\"tc not found for this interval, setting to 500s (default) -> cadence = {new_cadence}s\"\n",
    "    )\n",
    "\n",
    "else:\n",
    "    new_cadence = tc_n * tc / interval_length\n",
    "    print(\n",
    "        f\"tc calculated to be {np.round(tc,2)}s -> cadence = {np.round(new_cadence,2)}s (for {tc_n}tc across {interval_length} points)\"\n",
    "    )\n",
    "\n",
    "tc_list.append(tc)\n",
    "cadence_list.append(new_cadence)\n",
    "\n",
    "try:\n",
    "    interval_approx_resampled = df.resample(\n",
    "        str(np.round(new_cadence, 3)) + \"S\"\n",
    "    ).mean()  # Resample to higher frequency\n",
    "\n",
    "    for i in range(\n",
    "        0, len(interval_approx_resampled) - interval_length + 1, interval_length\n",
    "    ):\n",
    "        interval = interval_approx_resampled.iloc[i : i + interval_length]\n",
    "        # Check if interval is complete\n",
    "        if interval.isnull().sum() > 0:\n",
    "            print(\"interval contains missing data even after down-sampling; skipping\")\n",
    "            # Note: due to merging cannot identify specific file with missing data here\n",
    "            # only file list as here:\n",
    "            # print(\"corresponding input file list: \", file_list_split[core])\n",
    "        else:\n",
    "            # print(\"Interval successfully processed\")\n",
    "            int_norm = utils.normalize(interval)\n",
    "            ints.append(int_norm)\n",
    "\n",
    "except Exception as e:\n",
    "    print(f\"An error occurred: {e}\")\n",
    "\n",
    "if len(ints) == 0:\n",
    "    print(\"No good inputs found (ints is empty). Exiting.\")\n",
    "    exit(1)\n",
    "\n",
    "# Logarithmically-spaced lags?\n",
    "# vals = np.logspace(0, 3, 0.25 * len(ints[0]))\n",
    "# lags = np.unique(vals.astype(int))\n",
    "lags = np.arange(1, 0.25 * len(ints[0]))\n",
    "powers = [0.5, 2]\n",
    "\n",
    "print(\n",
    "    \"\\nNumber of standardised intervals: \",\n",
    "    len(ints),\n",
    "    \"about to be gapped\",\n",
    "    times_to_gap,\n",
    "    \"times\",\n",
    ")"
   ]
  },
  {
   "cell_type": "code",
   "execution_count": 11,
   "metadata": {},
   "outputs": [
    {
     "data": {
      "text/plain": [
       "Text(0, 0.5, '$B_R$ (nT)')"
      ]
     },
     "execution_count": 11,
     "metadata": {},
     "output_type": "execute_result"
    },
    {
     "data": {
      "image/png": "[encoded data removed]",
      "text/plain": [
       "<Figure size 648x216 with 1 Axes>"
      ]
     },
     "metadata": {
      "needs_background": "light"
     },
     "output_type": "display_data"
    }
   ],
   "source": [
    "fig, ax = plt.subplots(figsize=(9, 3))\n",
    "plt.plot(df, alpha=0.3, c=\"black\")\n",
    "plt.axvline(df.index[0], c=\"black\", linestyle=\"dashed\")\n",
    "[\n",
    "    plt.axvline(interval.index[-1], c=\"black\", linestyle=\"dashed\")\n",
    "    for interval in ints\n",
    "]\n",
    "[plt.plot(interval, c=\"black\") for interval in ints]\n",
    "plt.axhline(0, c=\"black\", linewidth=0.5, linestyle=\"--\")\n",
    "plt.suptitle(\n",
    "    f\"Standardised solar wind intervals: {tc_n}$\\lambda_C$ across {interval_length} points, $\\langle x \\\\rangle=0$, $\\sigma=1$\", y= 1.05\n",
    ")\n",
    "# # Add subtitle\n",
    "plt.title(f\"Using calculated $\\lambda_C$={int(tc)}s\")\n",
    "\n",
    "# ax.set_xlim(interval_list_approx[0].index[0], interval_list_approx[2].index[-1])\n",
    "ax.set_xlabel(\"Time\")\n",
    "ax.xaxis.set_major_formatter(mdates.ConciseDateFormatter(ax.xaxis.get_major_locator()))\n",
    "ax.set_ylabel(\"$B_R$ (nT)\")\n",
    "# Tidy the timestamp x-axis\n",
    "# plt.xticks(rotation=20)\n",
    "\n",
    "# plt.savefig(\"plots/int_standardised_demo.png\")"
   ]
  },
  {
   "cell_type": "code",
   "execution_count": 12,
   "metadata": {},
   "outputs": [
    {
     "data": {
      "text/html": [
       "<div>\n",
       "<style scoped>\n",
       "    .dataframe tbody tr th:only-of-type {\n",
       "        vertical-align: middle;\n",
       "    }\n",
       "\n",
       "    .dataframe tbody tr th {\n",
       "        vertical-align: top;\n",
       "    }\n",
       "\n",
       "    .dataframe thead th {\n",
       "        text-align: right;\n",
       "    }\n",
       "</style>\n",
       "<table border=\"1\" class=\"dataframe\">\n",
       "  <thead>\n",
       "    <tr style=\"text-align: right;\">\n",
       "      <th></th>\n",
       "      <th>raw_int_start</th>\n",
       "      <th>raw_int_end</th>\n",
       "      <th>tc</th>\n",
       "      <th>cadence</th>\n",
       "    </tr>\n",
       "  </thead>\n",
       "  <tbody>\n",
       "    <tr>\n",
       "      <th>0</th>\n",
       "      <td>2018-11-02 00:01:09.100</td>\n",
       "      <td>2018-11-02 06:01:09.100</td>\n",
       "      <td>736.199</td>\n",
       "      <td>0.736199</td>\n",
       "    </tr>\n",
       "  </tbody>\n",
       "</table>\n",
       "</div>"
      ],
      "text/plain": [
       "            raw_int_start             raw_int_end       tc   cadence\n",
       "0 2018-11-02 00:01:09.100 2018-11-02 06:01:09.100  736.199  0.736199"
      ]
     },
     "execution_count": 12,
     "metadata": {},
     "output_type": "execute_result"
    }
   ],
   "source": [
    "raw_interval_metadata = pd.DataFrame({\n",
    "    \"raw_int_start\": df.index[0],\n",
    "    \"raw_int_end\": df.index[-1],\n",
    "    \"tc\": tc_list,\n",
    "    \"cadence\": cadence_list,\n",
    "})\n",
    "raw_interval_metadata"
   ]
  },
  {
   "cell_type": "code",
   "execution_count": 41,
   "metadata": {},
   "outputs": [
    {
     "data": {
      "text/html": [
       "<div>\n",
       "<style scoped>\n",
       "    .dataframe tbody tr th:only-of-type {\n",
       "        vertical-align: middle;\n",
       "    }\n",
       "\n",
       "    .dataframe tbody tr th {\n",
       "        vertical-align: top;\n",
       "    }\n",
       "\n",
       "    .dataframe thead th {\n",
       "        text-align: right;\n",
       "    }\n",
       "</style>\n",
       "<table border=\"1\" class=\"dataframe\">\n",
       "  <thead>\n",
       "    <tr style=\"text-align: right;\">\n",
       "      <th></th>\n",
       "      <th>int_index</th>\n",
       "      <th>int_start</th>\n",
       "      <th>int_end</th>\n",
       "    </tr>\n",
       "  </thead>\n",
       "  <tbody>\n",
       "    <tr>\n",
       "      <th>0</th>\n",
       "      <td>0</td>\n",
       "      <td>2018-11-02 00:01:08.448</td>\n",
       "      <td>2018-11-02 02:03:47.712</td>\n",
       "    </tr>\n",
       "    <tr>\n",
       "      <th>1</th>\n",
       "      <td>1</td>\n",
       "      <td>2018-11-02 02:03:48.448</td>\n",
       "      <td>2018-11-02 04:06:27.712</td>\n",
       "    </tr>\n",
       "  </tbody>\n",
       "</table>\n",
       "</div>"
      ],
      "text/plain": [
       "   int_index               int_start                 int_end\n",
       "0          0 2018-11-02 00:01:08.448 2018-11-02 02:03:47.712\n",
       "1          1 2018-11-02 02:03:48.448 2018-11-02 04:06:27.712"
      ]
     },
     "execution_count": 41,
     "metadata": {},
     "output_type": "execute_result"
    }
   ],
   "source": [
    "ints_meta = pd.DataFrame({\n",
    "    \"int_start\": [interval.index[0] for interval in ints],\n",
    "    \"int_end\": [interval.index[-1] for interval in ints],\n",
    "})\n",
    "ints_meta.reset_index(inplace=True)\n",
    "ints_meta.rename(columns={\"index\": \"int_index\"}, inplace=True)\n",
    "ints_meta"
   ]
  },
  {
   "cell_type": "markdown",
   "metadata": {},
   "source": [
    "### 3. Calculate the true SF and slope for each interval"
   ]
  },
  {
   "cell_type": "code",
   "execution_count": 14,
   "metadata": {},
   "outputs": [],
   "source": [
    "lags = np.arange(1, 0.1 * len(ints[0]))\n",
    "powers = [0.5, 2]"
   ]
  },
  {
   "cell_type": "code",
   "execution_count": 42,
   "metadata": {},
   "outputs": [
    {
     "data": {
      "text/html": [
       "<div>\n",
       "<style scoped>\n",
       "    .dataframe tbody tr th:only-of-type {\n",
       "        vertical-align: middle;\n",
       "    }\n",
       "\n",
       "    .dataframe tbody tr th {\n",
       "        vertical-align: top;\n",
       "    }\n",
       "\n",
       "    .dataframe thead th {\n",
       "        text-align: right;\n",
       "    }\n",
       "</style>\n",
       "<table border=\"1\" class=\"dataframe\">\n",
       "  <thead>\n",
       "    <tr style=\"text-align: right;\">\n",
       "      <th></th>\n",
       "      <th>int_index</th>\n",
       "      <th>lag</th>\n",
       "      <th>n</th>\n",
       "      <th>missing_percent</th>\n",
       "      <th>sf_0.5</th>\n",
       "      <th>sf_0.5_se</th>\n",
       "      <th>sf_2</th>\n",
       "      <th>sf_2_se</th>\n",
       "    </tr>\n",
       "  </thead>\n",
       "  <tbody>\n",
       "    <tr>\n",
       "      <th>1.0</th>\n",
       "      <td>0</td>\n",
       "      <td>1.0</td>\n",
       "      <td>9999</td>\n",
       "      <td>0.0</td>\n",
       "      <td>0.239586</td>\n",
       "      <td>0.001398</td>\n",
       "      <td>0.015702</td>\n",
       "      <td>0.000594</td>\n",
       "    </tr>\n",
       "    <tr>\n",
       "      <th>2.0</th>\n",
       "      <td>0</td>\n",
       "      <td>2.0</td>\n",
       "      <td>9998</td>\n",
       "      <td>0.0</td>\n",
       "      <td>0.285889</td>\n",
       "      <td>0.001679</td>\n",
       "      <td>0.032877</td>\n",
       "      <td>0.001324</td>\n",
       "    </tr>\n",
       "    <tr>\n",
       "      <th>3.0</th>\n",
       "      <td>0</td>\n",
       "      <td>3.0</td>\n",
       "      <td>9997</td>\n",
       "      <td>0.0</td>\n",
       "      <td>0.311522</td>\n",
       "      <td>0.001843</td>\n",
       "      <td>0.047024</td>\n",
       "      <td>0.001895</td>\n",
       "    </tr>\n",
       "    <tr>\n",
       "      <th>4.0</th>\n",
       "      <td>0</td>\n",
       "      <td>4.0</td>\n",
       "      <td>9996</td>\n",
       "      <td>0.0</td>\n",
       "      <td>0.330458</td>\n",
       "      <td>0.001971</td>\n",
       "      <td>0.059901</td>\n",
       "      <td>0.002304</td>\n",
       "    </tr>\n",
       "    <tr>\n",
       "      <th>5.0</th>\n",
       "      <td>0</td>\n",
       "      <td>5.0</td>\n",
       "      <td>9995</td>\n",
       "      <td>0.0</td>\n",
       "      <td>0.344736</td>\n",
       "      <td>0.002068</td>\n",
       "      <td>0.071729</td>\n",
       "      <td>0.002690</td>\n",
       "    </tr>\n",
       "  </tbody>\n",
       "</table>\n",
       "</div>"
      ],
      "text/plain": [
       "     int_index  lag     n  missing_percent    sf_0.5  sf_0.5_se      sf_2  \\\n",
       "1.0          0  1.0  9999              0.0  0.239586   0.001398  0.015702   \n",
       "2.0          0  2.0  9998              0.0  0.285889   0.001679  0.032877   \n",
       "3.0          0  3.0  9997              0.0  0.311522   0.001843  0.047024   \n",
       "4.0          0  4.0  9996              0.0  0.330458   0.001971  0.059901   \n",
       "5.0          0  5.0  9995              0.0  0.344736   0.002068  0.071729   \n",
       "\n",
       "      sf_2_se  \n",
       "1.0  0.000594  \n",
       "2.0  0.001324  \n",
       "3.0  0.001895  \n",
       "4.0  0.002304  \n",
       "5.0  0.002690  "
      ]
     },
     "execution_count": 42,
     "metadata": {},
     "output_type": "execute_result"
    }
   ],
   "source": [
    "sfs = pd.DataFrame()\n",
    "\n",
    "for i, input in enumerate(ints):\n",
    "    # print(f\"\\nCore {core} processing standardised interval {i}\")\n",
    "    good_output, slope = sf.compute_sf(pd.DataFrame(input), lags, powers, False, False, [10,100])\n",
    "    \n",
    "    good_output.insert(0, \"int_index\", i)\n",
    "    sfs = pd.concat([sfs, good_output])\n",
    "    ints_meta.loc[ints_meta[\"int_index\"]==i, \"slope\"] = slope\n",
    "\n",
    "sfs.head()"
   ]
  },
  {
   "cell_type": "code",
   "execution_count": 16,
   "metadata": {},
   "outputs": [
    {
     "data": {
      "text/plain": [
       "[]"
      ]
     },
     "execution_count": 16,
     "metadata": {},
     "output_type": "execute_result"
    },
    {
     "data": {
      "image/png": "[encoded data removed]",
      "text/plain": [
       "<Figure size 432x288 with 1 Axes>"
      ]
     },
     "metadata": {
      "needs_background": "light"
     },
     "output_type": "display_data"
    }
   ],
   "source": [
    "from src.data_import_funcs import pltpwrl\n",
    "plt.plot(sfs.loc[sfs[\"int_index\"]==1, \"lag\"], sfs.loc[sfs[\"int_index\"]==1, \"sf_2\"])\n",
    "pltpwrl(10,0.1, 10, 100, ints_meta.loc[ints_meta[\"int_index\"]==1, \"slope\"].values)\n",
    "plt.semilogx()\n",
    "plt.semilogy()"
   ]
  },
  {
   "cell_type": "markdown",
   "metadata": {},
   "source": [
    "Briefly limiting to processing single interval"
   ]
  },
  {
   "cell_type": "markdown",
   "metadata": {},
   "source": [
    "### 4. Duplicate, gap and interpolate intervals, and calculate SFs and slopes"
   ]
  },
  {
   "cell_type": "code",
   "execution_count": 17,
   "metadata": {},
   "outputs": [],
   "source": [
    "minimum_missing_chunks = 0.7"
   ]
  },
  {
   "cell_type": "code",
   "execution_count": 18,
   "metadata": {},
   "outputs": [],
   "source": [
    "index_list = []\n",
    "version_list = []\n",
    "handling_list = []\n",
    "missing_list = []\n",
    "slopes_list = []\n",
    "\n",
    "sfs_copies = pd.DataFrame()\n",
    "ints_copies = pd.DataFrame()\n",
    "\n",
    "for index in range(len(ints)):\n",
    "    input = ints[index]\n",
    "\n",
    "    for j in range(times_to_gap):\n",
    "        total_removal = np.random.uniform(0, 0.95)\n",
    "        ratio_removal = np.random.uniform(minimum_missing_chunks, 1)\n",
    "        # print(\"Nominal total removal: {0:.1f}%\".format(total_removal * 100))\n",
    "        # print(\"Nominal ratio: {0:.1f}%\".format(ratio_removal * 100))\n",
    "        prop_remove_chunks = total_removal * ratio_removal\n",
    "        prop_remove_unif = total_removal * (1 - ratio_removal)\n",
    "        bad_input_temp, bad_input_ind, prop_removed = ts.remove_data(\n",
    "            input, prop_remove_chunks, chunks=np.random.randint(1, 10)\n",
    "        )\n",
    "        bad_input, bad_input_ind, prop_removed = ts.remove_data(\n",
    "            bad_input_temp, prop_remove_unif\n",
    "        )\n",
    "        if prop_removed >= 0.95 or prop_removed == 0:\n",
    "            # print(\">95% or 0% data removed, skipping\")\n",
    "            continue\n",
    "\n",
    "        bad_output, slope = sf.compute_sf(pd.DataFrame(bad_input), lags, powers, False, False, [10,100])\n",
    "        bad_output[\"int_index\"] = index\n",
    "        bad_output[\"version\"] = j\n",
    "        bad_output[\"handling\"] = \"none\"\n",
    "        sfs_copies = pd.concat([sfs_copies, bad_output])\n",
    "\n",
    "        for handling in [\"none\", \"lint\"]:\n",
    "            index_list.append(index)\n",
    "            version_list.append(j)\n",
    "            missing_list.append(prop_removed*100)\n",
    "            handling_list.append(handling)\n",
    "\n",
    "            if handling == \"none\":\n",
    "                slopes_list.append(slope)\n",
    "                bad_input_df = pd.DataFrame(bad_input)\n",
    "                bad_input_df[\"handling\"] = handling\n",
    "                    # Once we are done with computing the SF, add some metadata to the interval\n",
    "                bad_input_df[\"int_index\"] = index\n",
    "                bad_input_df[\"version\"] = j\n",
    "                sfs_copies = pd.concat([ints_copies, bad_input_df])\n",
    "\n",
    "            elif handling == \"lint\":\n",
    "                interp_input = bad_input.interpolate(method=\"linear\")\n",
    "                interp_output, slope = sf.compute_sf(pd.DataFrame(interp_input), lags, powers, False, False, [10,100])\n",
    "                slopes_list.append(slope)\n",
    "                \n",
    "                # # Once we are done with computing the SF, add some metadata to the interval\n",
    "                interp_input_df = pd.DataFrame(interp_input)\n",
    "                interp_input_df[\"int_index\"] = index\n",
    "                interp_input_df[\"version\"] = j\n",
    "                interp_input_df[\"handling\"] = handling\n",
    "                ints_copies = pd.concat([ints_copies, interp_input_df])\n",
    "\n",
    "                interp_output[\"int_index\"] = index\n",
    "                interp_output[\"version\"] = j\n",
    "                interp_output[\"handling\"] = handling\n",
    "                \n",
    "                # Correcting sample size and uncertainty for linear interpolation, same values as no handling\n",
    "                interp_output[\"missing_percent\"] = bad_output[\"missing_percent\"]\n",
    "                interp_output[\"sf_2_se\"] = bad_output[\"sf_2_se\"]\n",
    "\n",
    "                sfs_copies = pd.concat([sfs_copies, interp_output])"
   ]
  },
  {
   "cell_type": "code",
   "execution_count": 39,
   "metadata": {},
   "outputs": [
    {
     "data": {
      "text/html": [
       "<div>\n",
       "<style scoped>\n",
       "    .dataframe tbody tr th:only-of-type {\n",
       "        vertical-align: middle;\n",
       "    }\n",
       "\n",
       "    .dataframe tbody tr th {\n",
       "        vertical-align: top;\n",
       "    }\n",
       "\n",
       "    .dataframe thead th {\n",
       "        text-align: right;\n",
       "    }\n",
       "</style>\n",
       "<table border=\"1\" class=\"dataframe\">\n",
       "  <thead>\n",
       "    <tr style=\"text-align: right;\">\n",
       "      <th></th>\n",
       "      <th>int_index</th>\n",
       "      <th>version</th>\n",
       "      <th>missing_percent_overall</th>\n",
       "      <th>gap_handling</th>\n",
       "      <th>slope</th>\n",
       "    </tr>\n",
       "  </thead>\n",
       "  <tbody>\n",
       "    <tr>\n",
       "      <th>0</th>\n",
       "      <td>0</td>\n",
       "      <td>0</td>\n",
       "      <td>31.26</td>\n",
       "      <td>none</td>\n",
       "      <td>0.654488</td>\n",
       "    </tr>\n",
       "    <tr>\n",
       "      <th>1</th>\n",
       "      <td>0</td>\n",
       "      <td>0</td>\n",
       "      <td>31.26</td>\n",
       "      <td>lint</td>\n",
       "      <td>0.666914</td>\n",
       "    </tr>\n",
       "    <tr>\n",
       "      <th>2</th>\n",
       "      <td>0</td>\n",
       "      <td>1</td>\n",
       "      <td>80.45</td>\n",
       "      <td>none</td>\n",
       "      <td>0.644263</td>\n",
       "    </tr>\n",
       "    <tr>\n",
       "      <th>3</th>\n",
       "      <td>0</td>\n",
       "      <td>1</td>\n",
       "      <td>80.45</td>\n",
       "      <td>lint</td>\n",
       "      <td>0.635240</td>\n",
       "    </tr>\n",
       "    <tr>\n",
       "      <th>4</th>\n",
       "      <td>1</td>\n",
       "      <td>0</td>\n",
       "      <td>25.59</td>\n",
       "      <td>none</td>\n",
       "      <td>0.607894</td>\n",
       "    </tr>\n",
       "    <tr>\n",
       "      <th>5</th>\n",
       "      <td>1</td>\n",
       "      <td>0</td>\n",
       "      <td>25.59</td>\n",
       "      <td>lint</td>\n",
       "      <td>0.602388</td>\n",
       "    </tr>\n",
       "    <tr>\n",
       "      <th>6</th>\n",
       "      <td>1</td>\n",
       "      <td>1</td>\n",
       "      <td>34.21</td>\n",
       "      <td>none</td>\n",
       "      <td>0.530965</td>\n",
       "    </tr>\n",
       "    <tr>\n",
       "      <th>7</th>\n",
       "      <td>1</td>\n",
       "      <td>1</td>\n",
       "      <td>34.21</td>\n",
       "      <td>lint</td>\n",
       "      <td>0.567990</td>\n",
       "    </tr>\n",
       "  </tbody>\n",
       "</table>\n",
       "</div>"
      ],
      "text/plain": [
       "   int_index  version  missing_percent_overall gap_handling     slope\n",
       "0          0        0                    31.26         none  0.654488\n",
       "1          0        0                    31.26         lint  0.666914\n",
       "2          0        1                    80.45         none  0.644263\n",
       "3          0        1                    80.45         lint  0.635240\n",
       "4          1        0                    25.59         none  0.607894\n",
       "5          1        0                    25.59         lint  0.602388\n",
       "6          1        1                    34.21         none  0.530965\n",
       "7          1        1                    34.21         lint  0.567990"
      ]
     },
     "execution_count": 39,
     "metadata": {},
     "output_type": "execute_result"
    }
   ],
   "source": [
    "ints_copies_meta = pd.DataFrame({\"int_index\": index_list, \"version\": version_list, \"missing_percent_overall\": missing_list, \"gap_handling\": handling_list, \"slope\": slopes_list})\n",
    "ints_copies_meta"
   ]
  },
  {
   "cell_type": "markdown",
   "metadata": {},
   "source": [
    "Plot all bad and interpolated intervals, with true in background"
   ]
  },
  {
   "cell_type": "code",
   "execution_count": 22,
   "metadata": {},
   "outputs": [
    {
     "data": {
      "text/plain": [
       "array([2.31647219, 2.33887956, 2.4126522 , ..., 0.25040398, 0.23969982,\n",
       "       0.29300482])"
      ]
     },
     "execution_count": 22,
     "metadata": {},
     "output_type": "execute_result"
    }
   ],
   "source": [
    "index = 0\n",
    "i = 0\n",
    "ints[index].values"
   ]
  },
  {
   "cell_type": "code",
   "execution_count": 36,
   "metadata": {},
   "outputs": [
    {
     "data": {
      "image/png": "[encoded data removed]",
      "text/plain": [
       "<Figure size 720x432 with 4 Axes>"
      ]
     },
     "metadata": {
      "needs_background": "light"
     },
     "output_type": "display_data"
    }
   ],
   "source": [
    "# # Quick check of results\n",
    "index = 0\n",
    "n_versions = 2\n",
    "\n",
    "fig, ax = plt.subplots(n_versions, 2, figsize=(10, n_versions*3))\n",
    "for i in range(n_versions):\n",
    "    ax[i, 0].plot(ints[index], alpha=0.5, c=\"black\")\n",
    "    ax[i, 0].plot(ints_copies.loc[((ints_copies[\"int_index\"]==index) & (ints_copies[\"handling\"]==\"lint\") & (ints_copies[\"version\"]==i)),\"B_R\"], c=\"blue\")\n",
    "    ax[i, 0].plot(ints_copies.loc[((ints_copies[\"int_index\"]==index) & (ints_copies[\"handling\"]==\"none\") & (ints_copies[\"version\"]==i)),\"B_R\"], c=\"red\")\n",
    "\n",
    "    ax[i, 1].plot(sfs.loc[sfs[\"int_index\"]==index,\"sf_2\"], alpha=0.5, c=\"black\")\n",
    "    ax[i, 1].plot(sfs_copies.loc[((sfs_copies[\"int_index\"]==index) & (sfs_copies[\"handling\"]==\"lint\") & (sfs_copies[\"version\"]==i)),\"sf_2\"], c=\"blue\")\n",
    "    ax[i, 1].plot(sfs_copies.loc[((sfs_copies[\"int_index\"]==index) & (sfs_copies[\"handling\"]==\"none\") & (sfs_copies[\"version\"]==i)),\"sf_2\"], c=\"red\")\n",
    "    ax[i, 1].semilogx()\n",
    "    ax[i, 1].semilogy()\n",
    "#plt.savefig(\"data/processed/validation_plot.png\")\n",
    "#print(\"Validation plot saved\")\n"
   ]
  },
  {
   "cell_type": "markdown",
   "metadata": {},
   "source": [
    "### 5. Calculate errors relative to true values\n",
    "\n",
    "Join original and copies dataframes and do column operation"
   ]
  },
  {
   "cell_type": "code",
   "execution_count": 45,
   "metadata": {},
   "outputs": [
    {
     "data": {
      "text/html": [
       "<div>\n",
       "<style scoped>\n",
       "    .dataframe tbody tr th:only-of-type {\n",
       "        vertical-align: middle;\n",
       "    }\n",
       "\n",
       "    .dataframe tbody tr th {\n",
       "        vertical-align: top;\n",
       "    }\n",
       "\n",
       "    .dataframe thead th {\n",
       "        text-align: right;\n",
       "    }\n",
       "</style>\n",
       "<table border=\"1\" class=\"dataframe\">\n",
       "  <thead>\n",
       "    <tr style=\"text-align: right;\">\n",
       "      <th></th>\n",
       "      <th>int_index</th>\n",
       "      <th>int_start</th>\n",
       "      <th>int_end</th>\n",
       "      <th>slope_orig</th>\n",
       "      <th>version</th>\n",
       "      <th>missing_percent_overall</th>\n",
       "      <th>gap_handling</th>\n",
       "      <th>slope_copy</th>\n",
       "      <th>slope_pe</th>\n",
       "    </tr>\n",
       "  </thead>\n",
       "  <tbody>\n",
       "    <tr>\n",
       "      <th>0</th>\n",
       "      <td>0</td>\n",
       "      <td>2018-11-02 00:01:08.448</td>\n",
       "      <td>2018-11-02 02:03:47.712</td>\n",
       "      <td>0.646207</td>\n",
       "      <td>0</td>\n",
       "      <td>31.26</td>\n",
       "      <td>none</td>\n",
       "      <td>0.654488</td>\n",
       "      <td>1.281558</td>\n",
       "    </tr>\n",
       "    <tr>\n",
       "      <th>1</th>\n",
       "      <td>0</td>\n",
       "      <td>2018-11-02 00:01:08.448</td>\n",
       "      <td>2018-11-02 02:03:47.712</td>\n",
       "      <td>0.646207</td>\n",
       "      <td>0</td>\n",
       "      <td>31.26</td>\n",
       "      <td>lint</td>\n",
       "      <td>0.666914</td>\n",
       "      <td>3.204459</td>\n",
       "    </tr>\n",
       "    <tr>\n",
       "      <th>2</th>\n",
       "      <td>0</td>\n",
       "      <td>2018-11-02 00:01:08.448</td>\n",
       "      <td>2018-11-02 02:03:47.712</td>\n",
       "      <td>0.646207</td>\n",
       "      <td>1</td>\n",
       "      <td>80.45</td>\n",
       "      <td>none</td>\n",
       "      <td>0.644263</td>\n",
       "      <td>-0.300747</td>\n",
       "    </tr>\n",
       "    <tr>\n",
       "      <th>3</th>\n",
       "      <td>0</td>\n",
       "      <td>2018-11-02 00:01:08.448</td>\n",
       "      <td>2018-11-02 02:03:47.712</td>\n",
       "      <td>0.646207</td>\n",
       "      <td>1</td>\n",
       "      <td>80.45</td>\n",
       "      <td>lint</td>\n",
       "      <td>0.635240</td>\n",
       "      <td>-1.697035</td>\n",
       "    </tr>\n",
       "    <tr>\n",
       "      <th>4</th>\n",
       "      <td>1</td>\n",
       "      <td>2018-11-02 02:03:48.448</td>\n",
       "      <td>2018-11-02 04:06:27.712</td>\n",
       "      <td>0.682743</td>\n",
       "      <td>0</td>\n",
       "      <td>25.59</td>\n",
       "      <td>none</td>\n",
       "      <td>0.607894</td>\n",
       "      <td>-10.963056</td>\n",
       "    </tr>\n",
       "    <tr>\n",
       "      <th>5</th>\n",
       "      <td>1</td>\n",
       "      <td>2018-11-02 02:03:48.448</td>\n",
       "      <td>2018-11-02 04:06:27.712</td>\n",
       "      <td>0.682743</td>\n",
       "      <td>0</td>\n",
       "      <td>25.59</td>\n",
       "      <td>lint</td>\n",
       "      <td>0.602388</td>\n",
       "      <td>-11.769534</td>\n",
       "    </tr>\n",
       "    <tr>\n",
       "      <th>6</th>\n",
       "      <td>1</td>\n",
       "      <td>2018-11-02 02:03:48.448</td>\n",
       "      <td>2018-11-02 04:06:27.712</td>\n",
       "      <td>0.682743</td>\n",
       "      <td>1</td>\n",
       "      <td>34.21</td>\n",
       "      <td>none</td>\n",
       "      <td>0.530965</td>\n",
       "      <td>-22.230717</td>\n",
       "    </tr>\n",
       "    <tr>\n",
       "      <th>7</th>\n",
       "      <td>1</td>\n",
       "      <td>2018-11-02 02:03:48.448</td>\n",
       "      <td>2018-11-02 04:06:27.712</td>\n",
       "      <td>0.682743</td>\n",
       "      <td>1</td>\n",
       "      <td>34.21</td>\n",
       "      <td>lint</td>\n",
       "      <td>0.567990</td>\n",
       "      <td>-16.807605</td>\n",
       "    </tr>\n",
       "  </tbody>\n",
       "</table>\n",
       "</div>"
      ],
      "text/plain": [
       "   int_index               int_start                 int_end  slope_orig  \\\n",
       "0          0 2018-11-02 00:01:08.448 2018-11-02 02:03:47.712    0.646207   \n",
       "1          0 2018-11-02 00:01:08.448 2018-11-02 02:03:47.712    0.646207   \n",
       "2          0 2018-11-02 00:01:08.448 2018-11-02 02:03:47.712    0.646207   \n",
       "3          0 2018-11-02 00:01:08.448 2018-11-02 02:03:47.712    0.646207   \n",
       "4          1 2018-11-02 02:03:48.448 2018-11-02 04:06:27.712    0.682743   \n",
       "5          1 2018-11-02 02:03:48.448 2018-11-02 04:06:27.712    0.682743   \n",
       "6          1 2018-11-02 02:03:48.448 2018-11-02 04:06:27.712    0.682743   \n",
       "7          1 2018-11-02 02:03:48.448 2018-11-02 04:06:27.712    0.682743   \n",
       "\n",
       "   version  missing_percent_overall gap_handling  slope_copy   slope_pe  \n",
       "0        0                    31.26         none    0.654488   1.281558  \n",
       "1        0                    31.26         lint    0.666914   3.204459  \n",
       "2        1                    80.45         none    0.644263  -0.300747  \n",
       "3        1                    80.45         lint    0.635240  -1.697035  \n",
       "4        0                    25.59         none    0.607894 -10.963056  \n",
       "5        0                    25.59         lint    0.602388 -11.769534  \n",
       "6        1                    34.21         none    0.530965 -22.230717  \n",
       "7        1                    34.21         lint    0.567990 -16.807605  "
      ]
     },
     "execution_count": 45,
     "metadata": {},
     "output_type": "execute_result"
    }
   ],
   "source": [
    "ints_meta_full = pd.merge(ints_meta, ints_copies_meta, how=\"inner\", on=\"int_index\", suffixes=(\"_orig\", \"_copy\"))\n",
    "ints_meta_full[\"slope_pe\"] = (ints_meta_full[\"slope_copy\"] - ints_meta_full[\"slope_orig\"]) / ints_meta_full[\"slope_orig\"] * 100\n",
    "ints_meta_full"
   ]
  },
  {
   "cell_type": "code",
   "execution_count": null,
   "metadata": {},
   "outputs": [
    {
     "data": {
      "text/html": [
       "<div>\n",
       "<style scoped>\n",
       "    .dataframe tbody tr th:only-of-type {\n",
       "        vertical-align: middle;\n",
       "    }\n",
       "\n",
       "    .dataframe tbody tr th {\n",
       "        vertical-align: top;\n",
       "    }\n",
       "\n",
       "    .dataframe thead th {\n",
       "        text-align: right;\n",
       "    }\n",
       "</style>\n",
       "<table border=\"1\" class=\"dataframe\">\n",
       "  <thead>\n",
       "    <tr style=\"text-align: right;\">\n",
       "      <th></th>\n",
       "      <th>int_index</th>\n",
       "      <th>lag</th>\n",
       "      <th>n_orig</th>\n",
       "      <th>missing_percent_orig</th>\n",
       "      <th>sf_0.5_orig</th>\n",
       "      <th>sf_0.5_se_orig</th>\n",
       "      <th>sf_2_orig</th>\n",
       "      <th>sf_2_se_orig</th>\n",
       "      <th>n_copy</th>\n",
       "      <th>missing_percent_copy</th>\n",
       "      <th>sf_0.5_copy</th>\n",
       "      <th>sf_0.5_se_copy</th>\n",
       "      <th>sf_2_copy</th>\n",
       "      <th>sf_2_se_copy</th>\n",
       "      <th>version</th>\n",
       "      <th>handling</th>\n",
       "      <th>sf_2_pe</th>\n",
       "    </tr>\n",
       "  </thead>\n",
       "  <tbody>\n",
       "    <tr>\n",
       "      <th>0</th>\n",
       "      <td>0</td>\n",
       "      <td>1.0</td>\n",
       "      <td>9999</td>\n",
       "      <td>0.0</td>\n",
       "      <td>0.239586</td>\n",
       "      <td>0.001398</td>\n",
       "      <td>0.015702</td>\n",
       "      <td>0.000594</td>\n",
       "      <td>4137</td>\n",
       "      <td>58.625863</td>\n",
       "      <td>0.243112</td>\n",
       "      <td>0.002227</td>\n",
       "      <td>0.016815</td>\n",
       "      <td>0.000974</td>\n",
       "      <td>0</td>\n",
       "      <td>none</td>\n",
       "      <td>7.087634</td>\n",
       "    </tr>\n",
       "    <tr>\n",
       "      <th>1</th>\n",
       "      <td>0</td>\n",
       "      <td>1.0</td>\n",
       "      <td>9999</td>\n",
       "      <td>0.0</td>\n",
       "      <td>0.239586</td>\n",
       "      <td>0.001398</td>\n",
       "      <td>0.015702</td>\n",
       "      <td>0.000594</td>\n",
       "      <td>9998</td>\n",
       "      <td>58.625863</td>\n",
       "      <td>0.120824</td>\n",
       "      <td>0.001492</td>\n",
       "      <td>0.007565</td>\n",
       "      <td>0.000974</td>\n",
       "      <td>0</td>\n",
       "      <td>lint</td>\n",
       "      <td>-51.823195</td>\n",
       "    </tr>\n",
       "    <tr>\n",
       "      <th>2</th>\n",
       "      <td>0</td>\n",
       "      <td>1.0</td>\n",
       "      <td>9999</td>\n",
       "      <td>0.0</td>\n",
       "      <td>0.239586</td>\n",
       "      <td>0.001398</td>\n",
       "      <td>0.015702</td>\n",
       "      <td>0.000594</td>\n",
       "      <td>1769</td>\n",
       "      <td>82.308231</td>\n",
       "      <td>0.256847</td>\n",
       "      <td>0.003472</td>\n",
       "      <td>0.018328</td>\n",
       "      <td>0.001281</td>\n",
       "      <td>1</td>\n",
       "      <td>none</td>\n",
       "      <td>16.726663</td>\n",
       "    </tr>\n",
       "    <tr>\n",
       "      <th>3</th>\n",
       "      <td>0</td>\n",
       "      <td>1.0</td>\n",
       "      <td>9999</td>\n",
       "      <td>0.0</td>\n",
       "      <td>0.239586</td>\n",
       "      <td>0.001398</td>\n",
       "      <td>0.015702</td>\n",
       "      <td>0.000594</td>\n",
       "      <td>9999</td>\n",
       "      <td>82.308231</td>\n",
       "      <td>0.060840</td>\n",
       "      <td>0.001191</td>\n",
       "      <td>0.003666</td>\n",
       "      <td>0.001281</td>\n",
       "      <td>1</td>\n",
       "      <td>lint</td>\n",
       "      <td>-76.654977</td>\n",
       "    </tr>\n",
       "    <tr>\n",
       "      <th>4</th>\n",
       "      <td>0</td>\n",
       "      <td>2.0</td>\n",
       "      <td>9998</td>\n",
       "      <td>0.0</td>\n",
       "      <td>0.285889</td>\n",
       "      <td>0.001679</td>\n",
       "      <td>0.032877</td>\n",
       "      <td>0.001324</td>\n",
       "      <td>4130</td>\n",
       "      <td>58.691738</td>\n",
       "      <td>0.285035</td>\n",
       "      <td>0.002624</td>\n",
       "      <td>0.033001</td>\n",
       "      <td>0.001994</td>\n",
       "      <td>0</td>\n",
       "      <td>none</td>\n",
       "      <td>0.377413</td>\n",
       "    </tr>\n",
       "  </tbody>\n",
       "</table>\n",
       "</div>"
      ],
      "text/plain": [
       "   int_index  lag  n_orig  missing_percent_orig  sf_0.5_orig  sf_0.5_se_orig  \\\n",
       "0          0  1.0    9999                   0.0     0.239586        0.001398   \n",
       "1          0  1.0    9999                   0.0     0.239586        0.001398   \n",
       "2          0  1.0    9999                   0.0     0.239586        0.001398   \n",
       "3          0  1.0    9999                   0.0     0.239586        0.001398   \n",
       "4          0  2.0    9998                   0.0     0.285889        0.001679   \n",
       "\n",
       "   sf_2_orig  sf_2_se_orig  n_copy  missing_percent_copy  sf_0.5_copy  \\\n",
       "0   0.015702      0.000594    4137             58.625863     0.243112   \n",
       "1   0.015702      0.000594    9998             58.625863     0.120824   \n",
       "2   0.015702      0.000594    1769             82.308231     0.256847   \n",
       "3   0.015702      0.000594    9999             82.308231     0.060840   \n",
       "4   0.032877      0.001324    4130             58.691738     0.285035   \n",
       "\n",
       "   sf_0.5_se_copy  sf_2_copy  sf_2_se_copy  version handling    sf_2_pe  \n",
       "0        0.002227   0.016815      0.000974        0     none   7.087634  \n",
       "1        0.001492   0.007565      0.000974        0     lint -51.823195  \n",
       "2        0.003472   0.018328      0.001281        1     none  16.726663  \n",
       "3        0.001191   0.003666      0.001281        1     lint -76.654977  \n",
       "4        0.002624   0.033001      0.001994        0     none   0.377413  "
      ]
     },
     "execution_count": 34,
     "metadata": {},
     "output_type": "execute_result"
    }
   ],
   "source": [
    "sfs_copies_full = pd.merge(sfs, sfs_copies, how=\"inner\", on=[\"int_index\", \"lag\"], suffixes=(\"_orig\", \"_copy\"))\n",
    "sfs_copies_full[\"sf_2_pe\"] = (sfs_copies_full[\"sf_2_copy\"] - sfs_copies_full[\"sf_2_orig\"]) / sfs_copies_full[\"sf_2_orig\"] * 100\n",
    "sfs_copies_full.head()"
   ]
  },
  {
   "cell_type": "markdown",
   "metadata": {},
   "source": [
    "Calculate MAPE for each interval copy"
   ]
  },
  {
   "cell_type": "code",
   "execution_count": 43,
   "metadata": {},
   "outputs": [
    {
     "data": {
      "text/html": [
       "<div>\n",
       "<style scoped>\n",
       "    .dataframe tbody tr th:only-of-type {\n",
       "        vertical-align: middle;\n",
       "    }\n",
       "\n",
       "    .dataframe tbody tr th {\n",
       "        vertical-align: top;\n",
       "    }\n",
       "\n",
       "    .dataframe thead th {\n",
       "        text-align: right;\n",
       "    }\n",
       "</style>\n",
       "<table border=\"1\" class=\"dataframe\">\n",
       "  <thead>\n",
       "    <tr style=\"text-align: right;\">\n",
       "      <th></th>\n",
       "      <th>int_index</th>\n",
       "      <th>version</th>\n",
       "      <th>missing_percent_overall</th>\n",
       "      <th>gap_handling</th>\n",
       "      <th>slope</th>\n",
       "    </tr>\n",
       "  </thead>\n",
       "  <tbody>\n",
       "    <tr>\n",
       "      <th>0</th>\n",
       "      <td>0</td>\n",
       "      <td>0</td>\n",
       "      <td>31.26</td>\n",
       "      <td>none</td>\n",
       "      <td>0.654488</td>\n",
       "    </tr>\n",
       "    <tr>\n",
       "      <th>1</th>\n",
       "      <td>0</td>\n",
       "      <td>0</td>\n",
       "      <td>31.26</td>\n",
       "      <td>lint</td>\n",
       "      <td>0.666914</td>\n",
       "    </tr>\n",
       "    <tr>\n",
       "      <th>2</th>\n",
       "      <td>0</td>\n",
       "      <td>1</td>\n",
       "      <td>80.45</td>\n",
       "      <td>none</td>\n",
       "      <td>0.644263</td>\n",
       "    </tr>\n",
       "    <tr>\n",
       "      <th>3</th>\n",
       "      <td>0</td>\n",
       "      <td>1</td>\n",
       "      <td>80.45</td>\n",
       "      <td>lint</td>\n",
       "      <td>0.635240</td>\n",
       "    </tr>\n",
       "    <tr>\n",
       "      <th>4</th>\n",
       "      <td>1</td>\n",
       "      <td>0</td>\n",
       "      <td>25.59</td>\n",
       "      <td>none</td>\n",
       "      <td>0.607894</td>\n",
       "    </tr>\n",
       "    <tr>\n",
       "      <th>5</th>\n",
       "      <td>1</td>\n",
       "      <td>0</td>\n",
       "      <td>25.59</td>\n",
       "      <td>lint</td>\n",
       "      <td>0.602388</td>\n",
       "    </tr>\n",
       "    <tr>\n",
       "      <th>6</th>\n",
       "      <td>1</td>\n",
       "      <td>1</td>\n",
       "      <td>34.21</td>\n",
       "      <td>none</td>\n",
       "      <td>0.530965</td>\n",
       "    </tr>\n",
       "    <tr>\n",
       "      <th>7</th>\n",
       "      <td>1</td>\n",
       "      <td>1</td>\n",
       "      <td>34.21</td>\n",
       "      <td>lint</td>\n",
       "      <td>0.567990</td>\n",
       "    </tr>\n",
       "  </tbody>\n",
       "</table>\n",
       "</div>"
      ],
      "text/plain": [
       "   int_index  version  missing_percent_overall gap_handling     slope\n",
       "0          0        0                    31.26         none  0.654488\n",
       "1          0        0                    31.26         lint  0.666914\n",
       "2          0        1                    80.45         none  0.644263\n",
       "3          0        1                    80.45         lint  0.635240\n",
       "4          1        0                    25.59         none  0.607894\n",
       "5          1        0                    25.59         lint  0.602388\n",
       "6          1        1                    34.21         none  0.530965\n",
       "7          1        1                    34.21         lint  0.567990"
      ]
     },
     "execution_count": 43,
     "metadata": {},
     "output_type": "execute_result"
    }
   ],
   "source": [
    "subset = df[list(combination)]\n",
    "mean_values = subset.mean()\n",
    "means_list.append(mean_values)"
   ]
  },
  {
   "cell_type": "code",
   "execution_count": null,
   "metadata": {},
   "outputs": [
    {
     "data": {
      "text/plain": [
       "<Axes: >"
      ]
     },
     "execution_count": 35,
     "metadata": {},
     "output_type": "execute_result"
    },
    {
     "data": {
      "image/png": "[encoded data removed]",
      "text/plain": [
       "<Figure size 432x288 with 1 Axes>"
      ]
     },
     "metadata": {
      "needs_background": "light"
     },
     "output_type": "display_data"
    },
    {
     "data": {
      "image/png": "[encoded data removed]",
      "text/plain": [
       "<Figure size 432x288 with 1 Axes>"
      ]
     },
     "metadata": {
      "needs_background": "light"
     },
     "output_type": "display_data"
    }
   ],
   "source": [
    "check = sfs_copies_full[(sfs_copies_full[\"int_index\"]==0) & (sfs_copies_full[\"version\"]==0) & (sfs_copies_full[\"handling\"]==\"lint\")]\n",
    "check[[\"sf_2_orig\", \"sf_2_copy\"]].plot()\n",
    "plt.semilogx()\n",
    "plt.semilogy()\n",
    "check[[ \"sf_2_pe\"]].plot()"
   ]
  },
  {
   "cell_type": "markdown",
   "metadata": {},
   "source": [
    "### 6. For PSP training set, create 2D and 3D heatmaps and export"
   ]
  },
  {
   "cell_type": "markdown",
   "metadata": {},
   "source": [
    "### 7. For PSP and Wind test sets, apply the correction factor and calculate slopes"
   ]
  },
  {
   "cell_type": "markdown",
   "metadata": {},
   "source": [
    "### 8. Again calculate errors relative to true values"
   ]
  }
 ],
 "metadata": {
  "kernelspec": {
   "display_name": "Python 3",
   "language": "python",
   "name": "python3"
  },
  "language_info": {
   "codemirror_mode": {
    "name": "ipython",
    "version": 3
   },
   "file_extension": ".py",
   "mimetype": "text/x-python",
   "name": "python",
   "nbconvert_exporter": "python",
   "pygments_lexer": "ipython3",
   "version": "3.10.4"
  }
 },
 "nbformat": 4,
 "nbformat_minor": 2
}

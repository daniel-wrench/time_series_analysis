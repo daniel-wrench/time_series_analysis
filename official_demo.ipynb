{
 "cells": [
  {
   "cell_type": "markdown",
   "metadata": {},
   "source": [
    "# Gaps on structure functions: demo of pipeline\n",
    "\n",
    "- Inspired by existing code\n",
    "- Test on one PSP to start, then two PSP and one Wind for training and testing\n",
    "- Check against target dataframes as you go"
   ]
  },
  {
   "cell_type": "markdown",
   "metadata": {},
   "source": [
    "### 0. Import dependencies"
   ]
  },
  {
   "cell_type": "code",
   "execution_count": 38,
   "metadata": {
    "vscode": {
     "languageId": "shellscript"
    }
   },
   "outputs": [],
   "source": [
    "import pickle\n",
    "import pandas as pd\n",
    "import numpy as np\n",
    "import ts_dashboard_utils as ts\n",
    "import src.utils as utils  # copied directly from Reynolds project, normalize() added\n",
    "import src.params as params\n",
    "import src.sf_funcs as sf\n",
    "import sys\n",
    "import src.data_import_funcs as dif\n",
    "import json\n",
    "import glob\n",
    "import importlib\n",
    "import matplotlib.pyplot as plt\n",
    "#plt.rcParams.update({\"font.size\": 16})\n",
    "import matplotlib.dates as mdates"
   ]
  },
  {
   "cell_type": "code",
   "execution_count": 15,
   "metadata": {
    "vscode": {
     "languageId": "shellscript"
    }
   },
   "outputs": [],
   "source": [
    "# For current Wind importing\n",
    "\n",
    "sys_arg_dict = {\n",
    "    # arg1\n",
    "    \"mag_path\": params.mag_path,\n",
    "    \"proton_path\": params.proton_path,\n",
    "    \"electron_path\": params.electron_path,\n",
    "    # arg2\n",
    "    \"mag_vars\": [params.timestamp, params.Bwind, params.Bwind_vec],\n",
    "    \"proton_vars\": [params.timestamp, params.np, params.Tp],\n",
    "    \"electron_vars\": [params.timestamp, params.ne, params.Te],\n",
    "    # arg3\n",
    "    \"mag_thresh\": params.mag_thresh,\n",
    "    \"proton_thresh\": params.proton_thresh,\n",
    "    \"electron_thresh\": params.electron_thresh,\n",
    "    # arg4\n",
    "    \"dt_hr\": params.dt_hr,\n",
    "    \"int_size\": params.int_size,\n",
    "    # arg5\n",
    "    \"dt_lr\": params.dt_lr,\n",
    "}"
   ]
  },
  {
   "cell_type": "markdown",
   "metadata": {},
   "source": [
    "### 1. Download files\n",
    "\n",
    "Run in terminal"
   ]
  },
  {
   "cell_type": "code",
   "execution_count": 16,
   "metadata": {
    "vscode": {
     "languageId": "shellscript"
    }
   },
   "outputs": [],
   "source": [
    "# For selecting a range of dates\n",
    "\n",
    "# wget --no-clobber --directory-prefix=data/raw/psp  https://spdf.gsfc.nasa.gov/pub/data/psp/fields/l2/mag_rtn/2018/psp_fld_l2_mag_rtn_20181102{00..12}_v02.cdf\n",
    "# wget --no-clobber --directory-prefix=data/raw/wind/ https://spdf.gsfc.nasa.gov/pub/data/wind/mfi/mfi_h2/2016/wi_h2_mfi_201601{01..07}_v05.cdf\n",
    "\n",
    "# For entire folders\n",
    "\n",
    "# wget --no-clobber --directory-prefix=data/raw/psp --recursive -np -nv -nH --cut-dirs=7 --accept cdf  https://spdf.gsfc.nasa.gov/pub/data/psp/fields/l2/mag_rtn/2018/\n",
    "# wget --no-clobber --directory-prefix=data/raw/wind --recursive -np -nv -nH --cut-dirs=2 --accept cdf  https://spdf.gsfc.nasa.gov/pub/data/wind/mfi/mfi_h2/"
   ]
  },
  {
   "cell_type": "markdown",
   "metadata": {},
   "source": [
    "### 2. Read in data and split into standardised intervals"
   ]
  },
  {
   "cell_type": "markdown",
   "metadata": {},
   "source": [
    "#### PSP data"
   ]
  },
  {
   "cell_type": "code",
   "execution_count": 16,
   "metadata": {},
   "outputs": [
    {
     "name": "stdout",
     "output_type": "stream",
     "text": [
      "['data/raw/psp\\\\psp_fld_l2_mag_rtn_2018110200_v02.cdf', 'data/raw/psp\\\\psp_fld_l2_mag_rtn_2018110206_v02.cdf', 'data/raw/psp\\\\psp_fld_l2_mag_rtn_2018110212_v02.cdf']\n"
     ]
    }
   ],
   "source": [
    "raw_file_list = sorted(glob.iglob(\"data/raw/psp/\" + \"/*.cdf\"))\n",
    "print(raw_file_list)"
   ]
  },
  {
   "cell_type": "code",
   "execution_count": 17,
   "metadata": {
    "vscode": {
     "languageId": "shellscript"
    }
   },
   "outputs": [
    {
     "name": "stdout",
     "output_type": "stream",
     "text": [
      "reading file  data/raw/psp\\psp_fld_l2_mag_rtn_2018110200_v02.cdf\n",
      "Done reading data\n",
      "<class 'pandas.core.series.Series'>\n",
      "DatetimeIndex: 1582027 entries, 2018-11-02 00:01:09.195182976 to 2018-11-02 06:01:09.171900544\n",
      "Series name: B_R\n",
      "Non-Null Count    Dtype  \n",
      "--------------    -----  \n",
      "1582027 non-null  float64\n",
      "dtypes: float64(1)\n",
      "memory usage: 24.1 MB\n",
      "None\n",
      "Time\n",
      "2018-11-02 00:01:09.195182976   -11.061315\n",
      "2018-11-02 00:01:09.208836480   -10.854164\n",
      "2018-11-02 00:01:09.222489856   -11.197883\n",
      "2018-11-02 00:01:09.236143104   -11.008248\n",
      "2018-11-02 00:01:09.249796352   -11.188342\n",
      "Name: B_R, dtype: float64\n"
     ]
    }
   ],
   "source": [
    "psp_data = dif.read_cdfs(\n",
    "    [raw_file_list[0]],  # LIMIT HERE!\n",
    "    {\"epoch_mag_RTN\": (0), \"psp_fld_l2_mag_RTN\": (0, 3), \"label_RTN\": (0, 3)},\n",
    ")\n",
    "psp_data_ready = dif.extract_components(\n",
    "    psp_data,\n",
    "    var_name=\"psp_fld_l2_mag_RTN\",\n",
    "    label_name=\"label_RTN\",\n",
    "    time_var=\"epoch_mag_RTN\",\n",
    "    dim=3,\n",
    ")\n",
    "psp_df = pd.DataFrame(psp_data_ready)\n",
    "psp_df[\"Time\"] = pd.to_datetime(\"2000-01-01 12:00\") + pd.to_timedelta(\n",
    "    psp_df[\"epoch_mag_RTN\"], unit=\"ns\"\n",
    ")\n",
    "psp_df = psp_df.drop(columns=\"epoch_mag_RTN\").set_index(\"Time\")\n",
    "\n",
    "df_raw = psp_df[\"B_R\"]\n",
    "\n",
    "print(df_raw.info())\n",
    "print(df_raw.head())"
   ]
  },
  {
   "cell_type": "markdown",
   "metadata": {},
   "source": [
    "#### Wind data\n",
    "Takes a while due to large files"
   ]
  },
  {
   "cell_type": "code",
   "execution_count": 50,
   "metadata": {
    "vscode": {
     "languageId": "shellscript"
    }
   },
   "outputs": [
    {
     "name": "stdout",
     "output_type": "stream",
     "text": [
      "['data/raw/wind\\\\wi_h2_mfi_20160101_v05.cdf', 'data/raw/wind\\\\wi_h2_mfi_20160102_v05.cdf', 'data/raw/wind\\\\wi_h2_mfi_20160103_v05.cdf', 'data/raw/wind\\\\wi_h2_mfi_20160104_v05.cdf', 'data/raw/wind\\\\wi_h2_mfi_20160105_v05.cdf', 'data/raw/wind\\\\wi_h2_mfi_20160106_v05.cdf', 'data/raw/wind\\\\wi_h2_mfi_20160107_v05.cdf']\n"
     ]
    }
   ],
   "source": [
    "# raw_file_list = sorted(glob.iglob(\"data/raw/wind/\" + \"/*.cdf\"))\n",
    "# print(raw_file_list)"
   ]
  },
  {
   "cell_type": "code",
   "execution_count": 53,
   "metadata": {
    "vscode": {
     "languageId": "shellscript"
    }
   },
   "outputs": [
    {
     "name": "stdout",
     "output_type": "stream",
     "text": [
      "Reading data/raw/wind\\wi_h2_mfi_20160101_v05.cdf: 3.02% missing\n",
      "<class 'pandas.core.series.Series'>\n",
      "DatetimeIndex: 939130 entries, 2016-01-01 00:00:00 to 2016-01-01 23:59:59.868000\n",
      "Freq: 92L\n",
      "Series name: Bx\n",
      "Non-Null Count   Dtype  \n",
      "--------------   -----  \n",
      "939130 non-null  float32\n",
      "dtypes: float32(1)\n",
      "memory usage: 10.7 MB\n",
      "None\n",
      "Timestamp\n",
      "2016-01-01 00:00:00.000    5.879855\n",
      "2016-01-01 00:00:00.092    5.890072\n",
      "2016-01-01 00:00:00.184    5.862018\n",
      "2016-01-01 00:00:00.276    5.875757\n",
      "2016-01-01 00:00:00.368    5.886422\n",
      "Freq: 92L, Name: Bx, dtype: float32\n"
     ]
    }
   ],
   "source": [
    "# df = utils.pipeline(\n",
    "#     raw_file_list[0],\n",
    "#     varlist=sys_arg_dict[\"mag_vars\"],\n",
    "#     thresholds=sys_arg_dict[\"mag_thresh\"],\n",
    "#     cadence=sys_arg_dict[\"dt_hr\"],\n",
    "# )\n",
    "\n",
    "# print(\"Reading {0}: {1:.2f}% missing\".format(raw_file_list[0], df.iloc[:,0].isna().sum()/len(df)*100))\n",
    "\n",
    "# # Ensuring observations are in chronological order\n",
    "# df_wind_hr = df.sort_index()\n",
    "\n",
    "# # df_wind_hr = pd.read_pickle(\"data/processed/\" + params.mag_path + params.dt_hr + \".pkl\")\n",
    "# df_wind_hr = df_wind_hr.rename(\n",
    "#     columns={\n",
    "#         params.Bwind: \"Bwind\",\n",
    "#         params.Bx: \"Bx\",\n",
    "#         params.By: \"By\",\n",
    "#         params.Bz: \"Bz\",\n",
    "#     }\n",
    "# )\n",
    "\n",
    "# missing = df_wind_hr.iloc[:, 0].isna().sum() / len(df_wind_hr)\n",
    "\n",
    "# if missing > 0.4:\n",
    "#     # Replacing values in lists with na\n",
    "#     print(\"Large missing %\")\n",
    "# else:\n",
    "#     int_wind_hr = df_wind_hr.interpolate().ffill().bfill()\n",
    "\n",
    "# df_raw = int_wind_hr[\"Bx\"]\n",
    "\n",
    "# print(df_raw.info())\n",
    "# print(df_raw.head())"
   ]
  },
  {
   "cell_type": "code",
   "execution_count": 7,
   "metadata": {
    "vscode": {
     "languageId": "shellscript"
    }
   },
   "outputs": [
    {
     "name": "stdout",
     "output_type": "stream",
     "text": [
      "No missing data\n",
      "Length of interval: 1582027\n",
      "Duration of interval: 0 days 05:59:59.976717568\n",
      "Duration between some adjacent data points:\n",
      "0 days 00:00:00.013653376\n",
      "0 days 00:00:00.013653248\n",
      "0 days 00:00:00.013653248\n",
      "\n",
      "Frequency is 73.24 Hz (2dp)\n",
      "Mean = -28.383399058746512\n",
      "Standard deviation = 18.777635215345533\n",
      "\n"
     ]
    }
   ],
   "source": [
    "### 0PTIONAL CODE ###\n",
    "\n",
    "if df_raw.isnull().sum() == 0:\n",
    "    print(\"No missing data\")\n",
    "else:\n",
    "    print(f\"{df_raw.isnull().sum()} missing points\")\n",
    "print(\"Length of interval: \" + str(df_raw.notnull().sum()))\n",
    "print(\"Duration of interval: \" + str(df_raw.index[-1] - df_raw.index[0]))\n",
    "x = df_raw.values\n",
    "\n",
    "# Frequency of measurements\n",
    "print(\"Duration between some adjacent data points:\")\n",
    "print(df_raw.index[2] - df_raw.index[1])\n",
    "print(df_raw.index[3] - df_raw.index[2])\n",
    "print(df_raw.index[4] - df_raw.index[3])\n",
    "\n",
    "a = df_raw.index[2] - df_raw.index[1]\n",
    "x_freq = 1 / (a.microseconds / 1e6)\n",
    "print(\"\\nFrequency is {0:.2f} Hz (2dp)\".format(x_freq))\n",
    "\n",
    "print(\"Mean = {}\".format(np.mean(x)))\n",
    "print(\"Standard deviation = {}\\n\".format(np.std(x)))\n",
    "\n",
    "### 0PTIONAL CODE END ###"
   ]
  },
  {
   "cell_type": "code",
   "execution_count": 22,
   "metadata": {},
   "outputs": [
    {
     "name": "stdout",
     "output_type": "stream",
     "text": [
      "tc calculated to be 736.2s -> cadence = 0.74s (for 10tc across 10000 points)\n",
      "\n",
      "Number of standardised intervals:  2 about to be gapped 5 times\n"
     ]
    }
   ],
   "source": [
    "tc_approx = 500  # s: 500 for PSP, 2000 for Wind\n",
    "cadence_approx = 0.1  # s: 0.1 for PSP, 1 for Wind\n",
    "\n",
    "tc_n = 10  # Number of actual (computed) correlation times we want in our standardised interval...\n",
    "interval_length = 10000  # ...across this many points\n",
    "\n",
    "df = df_raw.resample(str(cadence_approx) + \"S\").mean()\n",
    "\n",
    "good_inputs_list = []\n",
    "tc_list = []\n",
    "cadence_list = []\n",
    "\n",
    "time_lags_lr, r_vec_lr = utils.compute_nd_acf(\n",
    "    [df],\n",
    "    nlags=10000,\n",
    "    plot=False,\n",
    ")\n",
    "\n",
    "tc = utils.compute_outer_scale_exp_trick(time_lags_lr, r_vec_lr, plot=False)\n",
    "\n",
    "if tc == -1:\n",
    "    tc = tc_approx\n",
    "    new_cadence = tc_n * tc / interval_length\n",
    "    print(\n",
    "        f\"tc not found for this interval, setting to 500s (default) -> cadence = {new_cadence}s\"\n",
    "    )\n",
    "\n",
    "else:\n",
    "    new_cadence = tc_n * tc / interval_length\n",
    "    print(\n",
    "        f\"tc calculated to be {np.round(tc,2)}s -> cadence = {np.round(new_cadence,2)}s (for {tc_n}tc across {interval_length} points)\"\n",
    "    )\n",
    "\n",
    "tc_list.append(tc)\n",
    "cadence_list.append(new_cadence)\n",
    "\n",
    "try:\n",
    "    interval_approx_resampled = df.resample(\n",
    "        str(np.round(new_cadence, 3)) + \"S\"\n",
    "    ).mean()  # Resample to higher frequency\n",
    "\n",
    "    for i in range(\n",
    "        0, len(interval_approx_resampled) - interval_length + 1, interval_length\n",
    "    ):\n",
    "        interval = interval_approx_resampled.iloc[i : i + interval_length]\n",
    "        # Check if interval is complete\n",
    "        if interval.isnull().sum() > 0:\n",
    "            print(\"interval contains missing data even after down-sampling; skipping\")\n",
    "            # Note: due to merging cannot identify specific file with missing data here\n",
    "            # only file list as here:\n",
    "            # print(\"corresponding input file list: \", file_list_split[core])\n",
    "        else:\n",
    "            # print(\"Interval successfully processed\")\n",
    "            int_norm = utils.normalize(interval)\n",
    "            good_inputs_list.append(int_norm)\n",
    "\n",
    "except Exception as e:\n",
    "    print(f\"An error occurred: {e}\")\n",
    "\n",
    "if len(good_inputs_list) == 0:\n",
    "    print(\"No good inputs found (good_inputs_list is empty). Exiting.\")\n",
    "    exit(1)\n",
    "\n",
    "# Logarithmically-spaced lags?\n",
    "# vals = np.logspace(0, 3, 0.25 * len(good_inputs_list[0]))\n",
    "# lags = np.unique(vals.astype(int))\n",
    "lags = np.arange(1, 0.25 * len(good_inputs_list[0]))\n",
    "powers = [0.5, 2]\n",
    "times_to_gap = 5  # int(sys.argv[3])\n",
    "\n",
    "print(\n",
    "    \"\\nNumber of standardised intervals: \",\n",
    "    len(good_inputs_list),\n",
    "    \"about to be gapped\",\n",
    "    times_to_gap,\n",
    "    \"times\",\n",
    ")"
   ]
  },
  {
   "cell_type": "code",
   "execution_count": 19,
   "metadata": {},
   "outputs": [
    {
     "data": {
      "text/plain": [
       "Text(0, 0.5, '$B_R$ (nT)')"
      ]
     },
     "execution_count": 19,
     "metadata": {},
     "output_type": "execute_result"
    },
    {
     "data": {
      "image/png": "[encoded data removed]",
      "text/plain": [
       "<Figure size 648x216 with 1 Axes>"
      ]
     },
     "metadata": {
      "needs_background": "light"
     },
     "output_type": "display_data"
    }
   ],
   "source": [
    "fig, ax = plt.subplots(figsize=(9, 3))\n",
    "plt.plot(df, alpha=0.3, c=\"black\")\n",
    "plt.axvline(df.index[0], c=\"black\", linestyle=\"dashed\")\n",
    "[\n",
    "    plt.axvline(interval.index[-1], c=\"black\", linestyle=\"dashed\")\n",
    "    for interval in good_inputs_list\n",
    "]\n",
    "[plt.plot(interval, c=\"black\") for interval in good_inputs_list]\n",
    "plt.axhline(0, c=\"black\", linewidth=0.5, linestyle=\"--\")\n",
    "plt.suptitle(\n",
    "    f\"Standardised solar wind intervals: {tc_n}$\\lambda_C$ across {interval_length} points, $\\langle x \\\\rangle=0$, $\\sigma=1$\", y= 1.05\n",
    ")\n",
    "# # Add subtitle\n",
    "plt.title(f\"Using calculated $\\lambda_C$={int(tc)}s\")\n",
    "\n",
    "# ax.set_xlim(interval_list_approx[0].index[0], interval_list_approx[2].index[-1])\n",
    "ax.set_xlabel(\"Time\")\n",
    "ax.xaxis.set_major_formatter(mdates.ConciseDateFormatter(ax.xaxis.get_major_locator()))\n",
    "ax.set_ylabel(\"$B_R$ (nT)\")\n",
    "# Tidy the timestamp x-axis\n",
    "# plt.xticks(rotation=20)\n",
    "\n",
    "# plt.savefig(\"plots/int_standardised_demo.png\")"
   ]
  },
  {
   "cell_type": "code",
   "execution_count": 31,
   "metadata": {},
   "outputs": [
    {
     "data": {
      "text/html": [
       "<div>\n",
       "<style scoped>\n",
       "    .dataframe tbody tr th:only-of-type {\n",
       "        vertical-align: middle;\n",
       "    }\n",
       "\n",
       "    .dataframe tbody tr th {\n",
       "        vertical-align: top;\n",
       "    }\n",
       "\n",
       "    .dataframe thead th {\n",
       "        text-align: right;\n",
       "    }\n",
       "</style>\n",
       "<table border=\"1\" class=\"dataframe\">\n",
       "  <thead>\n",
       "    <tr style=\"text-align: right;\">\n",
       "      <th></th>\n",
       "      <th>raw_int_start</th>\n",
       "      <th>raw_int_end</th>\n",
       "      <th>tc</th>\n",
       "      <th>cadence</th>\n",
       "    </tr>\n",
       "  </thead>\n",
       "  <tbody>\n",
       "    <tr>\n",
       "      <th>0</th>\n",
       "      <td>2018-11-02 00:01:09.100</td>\n",
       "      <td>2018-11-02 06:01:09.100</td>\n",
       "      <td>736.199</td>\n",
       "      <td>0.736199</td>\n",
       "    </tr>\n",
       "  </tbody>\n",
       "</table>\n",
       "</div>"
      ],
      "text/plain": [
       "            raw_int_start             raw_int_end       tc   cadence\n",
       "0 2018-11-02 00:01:09.100 2018-11-02 06:01:09.100  736.199  0.736199"
      ]
     },
     "execution_count": 31,
     "metadata": {},
     "output_type": "execute_result"
    }
   ],
   "source": [
    "raw_interval_metadata = pd.DataFrame({\n",
    "    \"raw_int_start\": df.index[0],\n",
    "    \"raw_int_end\": df.index[-1],\n",
    "    \"tc\": tc_list,\n",
    "    \"cadence\": cadence_list,\n",
    "})\n",
    "raw_interval_metadata"
   ]
  },
  {
   "cell_type": "code",
   "execution_count": 32,
   "metadata": {},
   "outputs": [
    {
     "data": {
      "text/html": [
       "<div>\n",
       "<style scoped>\n",
       "    .dataframe tbody tr th:only-of-type {\n",
       "        vertical-align: middle;\n",
       "    }\n",
       "\n",
       "    .dataframe tbody tr th {\n",
       "        vertical-align: top;\n",
       "    }\n",
       "\n",
       "    .dataframe thead th {\n",
       "        text-align: right;\n",
       "    }\n",
       "</style>\n",
       "<table border=\"1\" class=\"dataframe\">\n",
       "  <thead>\n",
       "    <tr style=\"text-align: right;\">\n",
       "      <th></th>\n",
       "      <th>int_start</th>\n",
       "      <th>int_end</th>\n",
       "    </tr>\n",
       "  </thead>\n",
       "  <tbody>\n",
       "    <tr>\n",
       "      <th>0</th>\n",
       "      <td>2018-11-02 00:01:08.448</td>\n",
       "      <td>2018-11-02 02:03:47.712</td>\n",
       "    </tr>\n",
       "    <tr>\n",
       "      <th>1</th>\n",
       "      <td>2018-11-02 02:03:48.448</td>\n",
       "      <td>2018-11-02 04:06:27.712</td>\n",
       "    </tr>\n",
       "  </tbody>\n",
       "</table>\n",
       "</div>"
      ],
      "text/plain": [
       "                int_start                 int_end\n",
       "0 2018-11-02 00:01:08.448 2018-11-02 02:03:47.712\n",
       "1 2018-11-02 02:03:48.448 2018-11-02 04:06:27.712"
      ]
     },
     "execution_count": 32,
     "metadata": {},
     "output_type": "execute_result"
    }
   ],
   "source": [
    "interval_metadata = pd.DataFrame({\n",
    "    \"int_start\": [interval.index[0] for interval in good_inputs_list],\n",
    "    \"int_end\": [interval.index[-1] for interval in good_inputs_list],\n",
    "})\n",
    "interval_metadata"
   ]
  },
  {
   "cell_type": "markdown",
   "metadata": {},
   "source": [
    "### 3. Calculate the true SF and slope for each interval"
   ]
  },
  {
   "cell_type": "code",
   "execution_count": 78,
   "metadata": {},
   "outputs": [],
   "source": [
    "good_outputs_list = []\n",
    "all_bad_inputs_list = []\n",
    "all_bad_outputs_list = []\n",
    "all_interp_inputs_list = []\n",
    "all_interp_outputs_list = []\n",
    "\n",
    "lags = np.arange(1, 0.1 * len(good_inputs_list[0]))\n",
    "powers = [0.5, 2]"
   ]
  },
  {
   "cell_type": "code",
   "execution_count": 98,
   "metadata": {},
   "outputs": [
    {
     "data": {
      "text/html": [
       "<div>\n",
       "<style scoped>\n",
       "    .dataframe tbody tr th:only-of-type {\n",
       "        vertical-align: middle;\n",
       "    }\n",
       "\n",
       "    .dataframe tbody tr th {\n",
       "        vertical-align: top;\n",
       "    }\n",
       "\n",
       "    .dataframe thead th {\n",
       "        text-align: right;\n",
       "    }\n",
       "</style>\n",
       "<table border=\"1\" class=\"dataframe\">\n",
       "  <thead>\n",
       "    <tr style=\"text-align: right;\">\n",
       "      <th></th>\n",
       "      <th>lag</th>\n",
       "      <th>n</th>\n",
       "      <th>sf_0.5</th>\n",
       "      <th>missing_percent</th>\n",
       "      <th>sf_0.5_std_err</th>\n",
       "      <th>mapd</th>\n",
       "      <th>diffs_0.5</th>\n",
       "      <th>diffs_0.5_std</th>\n",
       "      <th>sf_2</th>\n",
       "      <th>sf_2_std_err</th>\n",
       "      <th>diffs_2</th>\n",
       "      <th>diffs_2_std</th>\n",
       "      <th>sf_2_ch</th>\n",
       "      <th>sf_2_dowd</th>\n",
       "    </tr>\n",
       "  </thead>\n",
       "  <tbody>\n",
       "    <tr>\n",
       "      <th>1.0</th>\n",
       "      <td>1.0</td>\n",
       "      <td>9999</td>\n",
       "      <td>0.239586</td>\n",
       "      <td>0.0</td>\n",
       "      <td>0.001398</td>\n",
       "      <td>0.045500</td>\n",
       "      <td>[0.14969090592439616, 0.27161118564872044, 0.1...</td>\n",
       "      <td>0.139777</td>\n",
       "      <td>0.015702</td>\n",
       "      <td>0.000594</td>\n",
       "      <td>[0.0005020901100550475, 0.005442401847397965, ...</td>\n",
       "      <td>0.059369</td>\n",
       "      <td>0.007209</td>\n",
       "      <td>0.004550</td>\n",
       "    </tr>\n",
       "    <tr>\n",
       "      <th>2.0</th>\n",
       "      <td>2.0</td>\n",
       "      <td>9998</td>\n",
       "      <td>0.285889</td>\n",
       "      <td>0.0</td>\n",
       "      <td>0.001679</td>\n",
       "      <td>0.065841</td>\n",
       "      <td>[0.3101290110356819, 0.29109635627990543, 0.30...</td>\n",
       "      <td>0.167849</td>\n",
       "      <td>0.032877</td>\n",
       "      <td>0.001324</td>\n",
       "      <td>[0.009250593070561223, 0.00718037419108791, 0....</td>\n",
       "      <td>0.132344</td>\n",
       "      <td>0.014616</td>\n",
       "      <td>0.009528</td>\n",
       "    </tr>\n",
       "    <tr>\n",
       "      <th>3.0</th>\n",
       "      <td>3.0</td>\n",
       "      <td>9997</td>\n",
       "      <td>0.311522</td>\n",
       "      <td>0.0</td>\n",
       "      <td>0.001843</td>\n",
       "      <td>0.077117</td>\n",
       "      <td>[0.3273292775721476, 0.41212882161862596, 0.32...</td>\n",
       "      <td>0.184234</td>\n",
       "      <td>0.047024</td>\n",
       "      <td>0.001895</td>\n",
       "      <td>[0.011479934442086663, 0.02884907875732225, 0....</td>\n",
       "      <td>0.189428</td>\n",
       "      <td>0.020606</td>\n",
       "      <td>0.013072</td>\n",
       "    </tr>\n",
       "    <tr>\n",
       "      <th>4.0</th>\n",
       "      <td>4.0</td>\n",
       "      <td>9996</td>\n",
       "      <td>0.330458</td>\n",
       "      <td>0.0</td>\n",
       "      <td>0.001971</td>\n",
       "      <td>0.086289</td>\n",
       "      <td>[0.43847181542856734, 0.177845329928834, 0.388...</td>\n",
       "      <td>0.197014</td>\n",
       "      <td>0.059901</td>\n",
       "      <td>0.002304</td>\n",
       "      <td>[0.036962958966493445, 0.0010003911978191224, ...</td>\n",
       "      <td>0.230391</td>\n",
       "      <td>0.026092</td>\n",
       "      <td>0.016366</td>\n",
       "    </tr>\n",
       "    <tr>\n",
       "      <th>5.0</th>\n",
       "      <td>5.0</td>\n",
       "      <td>9995</td>\n",
       "      <td>0.344736</td>\n",
       "      <td>0.0</td>\n",
       "      <td>0.002068</td>\n",
       "      <td>0.092585</td>\n",
       "      <td>[0.09602913131456206, 0.2781339263303981, 0.00...</td>\n",
       "      <td>0.206721</td>\n",
       "      <td>0.071729</td>\n",
       "      <td>0.002690</td>\n",
       "      <td>[8.503779702641277e-05, 0.0059843345789084785,...</td>\n",
       "      <td>0.268982</td>\n",
       "      <td>0.030902</td>\n",
       "      <td>0.018841</td>\n",
       "    </tr>\n",
       "  </tbody>\n",
       "</table>\n",
       "</div>"
      ],
      "text/plain": [
       "     lag     n    sf_0.5  missing_percent  sf_0.5_std_err      mapd  \\\n",
       "1.0  1.0  9999  0.239586              0.0        0.001398  0.045500   \n",
       "2.0  2.0  9998  0.285889              0.0        0.001679  0.065841   \n",
       "3.0  3.0  9997  0.311522              0.0        0.001843  0.077117   \n",
       "4.0  4.0  9996  0.330458              0.0        0.001971  0.086289   \n",
       "5.0  5.0  9995  0.344736              0.0        0.002068  0.092585   \n",
       "\n",
       "                                             diffs_0.5  diffs_0.5_std  \\\n",
       "1.0  [0.14969090592439616, 0.27161118564872044, 0.1...       0.139777   \n",
       "2.0  [0.3101290110356819, 0.29109635627990543, 0.30...       0.167849   \n",
       "3.0  [0.3273292775721476, 0.41212882161862596, 0.32...       0.184234   \n",
       "4.0  [0.43847181542856734, 0.177845329928834, 0.388...       0.197014   \n",
       "5.0  [0.09602913131456206, 0.2781339263303981, 0.00...       0.206721   \n",
       "\n",
       "         sf_2  sf_2_std_err  \\\n",
       "1.0  0.015702      0.000594   \n",
       "2.0  0.032877      0.001324   \n",
       "3.0  0.047024      0.001895   \n",
       "4.0  0.059901      0.002304   \n",
       "5.0  0.071729      0.002690   \n",
       "\n",
       "                                               diffs_2  diffs_2_std   sf_2_ch  \\\n",
       "1.0  [0.0005020901100550475, 0.005442401847397965, ...     0.059369  0.007209   \n",
       "2.0  [0.009250593070561223, 0.00718037419108791, 0....     0.132344  0.014616   \n",
       "3.0  [0.011479934442086663, 0.02884907875732225, 0....     0.189428  0.020606   \n",
       "4.0  [0.036962958966493445, 0.0010003911978191224, ...     0.230391  0.026092   \n",
       "5.0  [8.503779702641277e-05, 0.0059843345789084785,...     0.268982  0.030902   \n",
       "\n",
       "     sf_2_dowd  \n",
       "1.0   0.004550  \n",
       "2.0   0.009528  \n",
       "3.0   0.013072  \n",
       "4.0   0.016366  \n",
       "5.0   0.018841  "
      ]
     },
     "execution_count": 98,
     "metadata": {},
     "output_type": "execute_result"
    }
   ],
   "source": [
    "importlib.reload(sf)\n",
    "\n",
    "for i, input in enumerate(good_inputs_list):\n",
    "    # print(f\"\\nCore {core} processing standardised interval {i}\")\n",
    "    good_output, slope = sf.compute_sf(pd.DataFrame(input), lags, powers, False, False, [10,100])\n",
    "    good_outputs_list.append(good_output)\n",
    "    interval_metadata.loc[i, \"slope\"] = slope\n",
    "\n",
    "good_outputs_list[0].head()"
   ]
  },
  {
   "cell_type": "code",
   "execution_count": 100,
   "metadata": {},
   "outputs": [
    {
     "data": {
      "text/html": [
       "<div>\n",
       "<style scoped>\n",
       "    .dataframe tbody tr th:only-of-type {\n",
       "        vertical-align: middle;\n",
       "    }\n",
       "\n",
       "    .dataframe tbody tr th {\n",
       "        vertical-align: top;\n",
       "    }\n",
       "\n",
       "    .dataframe thead th {\n",
       "        text-align: right;\n",
       "    }\n",
       "</style>\n",
       "<table border=\"1\" class=\"dataframe\">\n",
       "  <thead>\n",
       "    <tr style=\"text-align: right;\">\n",
       "      <th></th>\n",
       "      <th>int_start</th>\n",
       "      <th>int_end</th>\n",
       "      <th>slope</th>\n",
       "    </tr>\n",
       "  </thead>\n",
       "  <tbody>\n",
       "    <tr>\n",
       "      <th>0</th>\n",
       "      <td>2018-11-02 00:01:08.448</td>\n",
       "      <td>2018-11-02 02:03:47.712</td>\n",
       "      <td>0.646207</td>\n",
       "    </tr>\n",
       "    <tr>\n",
       "      <th>1</th>\n",
       "      <td>2018-11-02 02:03:48.448</td>\n",
       "      <td>2018-11-02 04:06:27.712</td>\n",
       "      <td>0.682743</td>\n",
       "    </tr>\n",
       "  </tbody>\n",
       "</table>\n",
       "</div>"
      ],
      "text/plain": [
       "                int_start                 int_end     slope\n",
       "0 2018-11-02 00:01:08.448 2018-11-02 02:03:47.712  0.646207\n",
       "1 2018-11-02 02:03:48.448 2018-11-02 04:06:27.712  0.682743"
      ]
     },
     "execution_count": 100,
     "metadata": {},
     "output_type": "execute_result"
    }
   ],
   "source": [
    "interval_metadata"
   ]
  },
  {
   "cell_type": "code",
   "execution_count": 99,
   "metadata": {},
   "outputs": [
    {
     "data": {
      "text/plain": [
       "[]"
      ]
     },
     "execution_count": 99,
     "metadata": {},
     "output_type": "execute_result"
    },
    {
     "data": {
      "image/png": "[encoded data removed]",
      "text/plain": [
       "<Figure size 432x288 with 1 Axes>"
      ]
     },
     "metadata": {
      "needs_background": "light"
     },
     "output_type": "display_data"
    }
   ],
   "source": [
    "from src.data_import_funcs import pltpwrl\n",
    "plt.plot(good_outputs_list[0].loc[:, \"lag\"], good_outputs_list[0].loc[:, \"sf_2\"])\n",
    "pltpwrl(10,0.1, 10, 100, interval_metadata.loc[0, \"slope\"])\n",
    "plt.semilogx()\n",
    "plt.semilogy()"
   ]
  },
  {
   "cell_type": "markdown",
   "metadata": {},
   "source": [
    "### 4. Duplicate, gap and interpolate intervals"
   ]
  },
  {
   "cell_type": "markdown",
   "metadata": {},
   "source": [
    "### 5. Calculate bad and interpolated SFs and slopes, and error relative to true values"
   ]
  },
  {
   "cell_type": "markdown",
   "metadata": {},
   "source": [
    "### 6. For PSP training set, create 2D and 3D heatmaps and export"
   ]
  },
  {
   "cell_type": "markdown",
   "metadata": {},
   "source": [
    "### 7. For PSP and Wind test sets, apply the correction factor and calculate slopes"
   ]
  },
  {
   "cell_type": "markdown",
   "metadata": {},
   "source": [
    "### 8. Again calculate errors relative to true values"
   ]
  }
 ],
 "metadata": {
  "kernelspec": {
   "display_name": "Python 3",
   "language": "python",
   "name": "python3"
  },
  "language_info": {
   "codemirror_mode": {
    "name": "ipython",
    "version": 3
   },
   "file_extension": ".py",
   "mimetype": "text/x-python",
   "name": "python",
   "nbconvert_exporter": "python",
   "pygments_lexer": "ipython3",
   "version": "3.10.4"
  }
 },
 "nbformat": 4,
 "nbformat_minor": 2
}
